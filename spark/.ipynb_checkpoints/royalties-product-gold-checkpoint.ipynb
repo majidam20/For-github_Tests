{
 "cells": [
  {
   "cell_type": "code",
   "execution_count": null,
   "metadata": {
    "application/vnd.databricks.v1+cell": {
     "cellMetadata": {
      "byteLimit": 2048000,
      "rowLimit": 10000
     },
     "inputWidgets": {},
     "nuid": "73fe8751-e233-46ec-8807-6dc7ddcb4560",
     "showTitle": false,
     "title": ""
    }
   },
   "outputs": [],
   "source": [
    "\n",
    "# Helper Imports\n",
    "import base64\n",
    "from pyspark.sql.functions import col\n",
    "from pyspark.sql.functions import unbase64\n",
    "from pyspark.sql.functions import udf\n",
    "from pyspark.sql.functions import explode\n",
    "from pyspark.sql.functions import from_json\n",
    "from pyspark.sql.types import StringType, StructField, IntegerType, StringType, ArrayType\n"
   ]
  },
  {
   "cell_type": "markdown",
   "metadata": {
    "application/vnd.databricks.v1+cell": {
     "cellMetadata": {
      "byteLimit": 2048000,
      "rowLimit": 10000
     },
     "inputWidgets": {},
     "nuid": "9bcdd7dd-cdd5-4364-9d3b-a25495fdfd00",
     "showTitle": false,
     "title": ""
    }
   },
   "source": [
    "# Royalties Gold Product\n",
    "\n",
    "Lieber Majid,\n",
    "\n",
    "wie du bereits weißt, ist es der sehr wichtig, sich als datengetriebenes Unternehmen weiterzuentwickeln, um unseren Mitgliedern den besten Service anzubieten. Wir arbeiten stark an der Transparenz und möchten, dass unsere Mitglieder genaue Informationen darüber erhalten, welche Tantiemen für ihre Alben ausgeschüttet wurden.\n",
    "\n",
    "Unsere Mitglieder werden über unser CRM-System und Portal registriert, wo Informationen darüber stehen, wie die Mitglieder heißen, ob sie aktiv sind, etc. Keine Sorge, du musst nicht zwangsläufig die Transportschicht implementieren. Das übernimmt unser Broker-System (PubSub/Kafka) und reichert die notwendigen Informationen an.\n",
    "\n",
    "Laut unserem Platform Engineering Team werden regelmäßig Informationen im Ordner `\"/Workspace/album-product\"` abgelegt. Sie sagten, es handle sich um JSON-Dateien. Mehr wissen wir nicht und benötigen deine Unterstützung. Uns ist auch eine gesunde Kommunikation und der Wissensaustausch sehr wichtig, daher würden wir dich bitten, dich mit einem Software-Architekten zu besprechen und gemeinsam die Lösung zu erarbeiten - erzähle ihm ruhig, was du machst.\n",
    "\n",
    "## Wir benötigen Folgendes:\n",
    "\n",
    "- Lies bitte die Dateien aus und gib uns zurück, wie sie aufgebaut sind.\n",
    "- Für unsere Analysen und Berichte benötigen wir eine tabellarische Übersicht – die Analysten können mit kryptischen oder semi-strukturierten Daten nichts anfangen. Ach ja, und lösche bitte unbekannte Alben. Wir haben an einigen Stellen \"Bullshit\" in unseren Daten.\n",
    "- Wir stellen dir eine weitere Datei zur Verfügung, die aus einem anderen System kommt. Diese beinhaltet die Tantiemen für die Alben.\n",
    "- Aggregiere bitte diese Daten. Mich würde interessieren, wie du sie verknüpfst.\n",
    "- Wenn du soweit bist, lege die Tabelle in einem dir bekannten Format ab. Speichere sie unter `\"/Workspace/royalty-product-gold\"` ab.\n",
    "\n",
    "Denke daran, dass wir die bestehenden Tools nutzen. Dafür ist Databricks gedacht, und wir nutzen Python und Spark mithilfe der PySaprk Library. Wenn dir etwas nicht klar ist, wende dich an uns - feel free, und wir unterstützen dich beim Verständnis der Daten. Schließlich sind wir Data-Stewards. Dein zugeordneter Architekt wird dir sicherlich auch helfen, falls du Schwierigkeiten hast.\n",
    "\n",
    "Wir danken dir!\n",
    "\n",
    "Dein Tantieme Fachbereich\n"
   ]
  },
  {
   "cell_type": "code",
   "execution_count": null,
   "metadata": {
    "application/vnd.databricks.v1+cell": {
     "cellMetadata": {
      "byteLimit": 2048000,
      "rowLimit": 10000
     },
     "inputWidgets": {},
     "nuid": "df9c5989-a0ae-4613-bbf9-7976f6260a29",
     "showTitle": false,
     "title": ""
    }
   },
   "outputs": [
    {
     "name": "stdout",
     "output_type": "stream",
     "text": [
      "+--------------------+---------+--------------------+--------------------+\n",
      "|                 key|partition|               topic|               value|\n",
      "+--------------------+---------+--------------------+--------------------+\n",
      "|16a0c1eb-7c8c-418...|        0|artists.registraions|eyJhcnRpc3RfaWQiO...|\n",
      "|17a0c1eb-7c8c-418...|        0|artists.registraions|eyJhcnRpc3RfaWQiO...|\n",
      "|18a0c1eb-7c8c-418...|        0|artists.registraions|eyJhcnRpc3RfaWQiO...|\n",
      "|19a0c1eb-7c8c-418...|        0|artists.registraions|eyJhcnRpc3RfaWQiO...|\n",
      "|df89d348-83ea-4ec...|        0|artists.registraions|eyJhcnRpc3RfaWQiO...|\n",
      "+--------------------+---------+--------------------+--------------------+\n",
      "only showing top 5 rows\n",
      "\n"
     ]
    }
   ],
   "source": [
    "## Für unsere Analysen und Berichte benötigen wir eine tabellarische Übersicht – die Analysten können mit kryptischen oder semi-strukturierten Daten nichts anfangen. Ach ja, und lösche bitte unbekannte Alben. Wir haben an einigen Stellen \"Bullshit\" in unseren Daten.\n",
    "\n",
    "df= spark.read.format(\"json\").load(\"/Workspace/album-product\")\n",
    "\n",
    "df.show(5)"
   ]
  },
  {
   "cell_type": "code",
   "execution_count": null,
   "metadata": {
    "application/vnd.databricks.v1+cell": {
     "cellMetadata": {
      "byteLimit": 2048000,
      "rowLimit": 10000
     },
     "inputWidgets": {},
     "nuid": "af4d00f1-2327-4015-84c8-0481ed9bb4b7",
     "showTitle": false,
     "title": ""
    }
   },
   "outputs": [
    {
     "data": {
      "text/html": [
       "<style scoped>\n",
       "  .table-result-container {\n",
       "    max-height: 300px;\n",
       "    overflow: auto;\n",
       "  }\n",
       "  table, th, td {\n",
       "    border: 1px solid black;\n",
       "    border-collapse: collapse;\n",
       "  }\n",
       "  th, td {\n",
       "    padding: 5px;\n",
       "  }\n",
       "  th {\n",
       "    text-align: left;\n",
       "  }\n",
       "</style><div class='table-result-container'><table class='table-result'><thead style='background-color: white'><tr><th>value</th></tr></thead><tbody><tr><td>eyJhcnRpc3RfaWQiOjIzLCJuYW1lIjoiUmFtIFVuemVyIiwiYWxidW1zIjpbeyJhbGJ1bV9pZCI6NDYsIm5hbWUiOiJHb3R0IHZlciBkaWUgRnJlaGVpdCIsInllYXJfcmVsZWFzZWQiOjIwMDJ9LHsiYWxidW1faWQiOjQ3LCJuYW1lIjoiU29ubmUgVGVjbm8iLCJ5ZWFyX3JlbGVhc2VkIjoxOTk0fV19</td></tr><tr><td>eyJhcnRpc3RfaWQiOjI0LCJuYW1lIjoiQmlsbCBLYXVsZXIgaW1tdXJldCIsImFsYnVtcyI6W3siYWxidW1faWQiOjQ4LCJuYW1lIjoiRGllIG5ldWVua2xhbmRlbiBncmVpZiwiLCJ5ZWFyX3JlbGVhc2VkIjoxOTk3fSx7ImFsYnVtX2lkIjo0OSwibmFtZSI6IkxlYmVuIHdpZSBDYXJ0YWcgVmFsbGV5In1dfQ==</td></tr><tr><td>eyJhcnRpc3RfaWQiOjI1LCJuYW1lIjoiRXJpYyBCdXJkb24iLCJhbGJ1bXMiOlt7ImFsYnVtX2lkIjo1MCwibmFtZSI6Ik1lZG1vcmFkaWVyIiwieWVhcl9yZWxlYXNlZCI6MTk5NX0seyJhbGJ1bV9pZCI6NTEsIm5hbWUiOiJMZXRoYWxiYSIsInllYXJfcmVsZWFzZWQiOjIwMDJ9XX0=</td></tr><tr><td>eyJhcnRpc3RfaWQiOjI2LCJuYW1lIjoiVGhlIFByb2dyZXNzIiwiYWxidW1zIjpbeyJhbGJ1bV9pZCI6NTIsIm5hbWUiOiJEaWUgVmVyd2FuZGx1bmciLCJ5ZWFyX3JlbGVhc2VkIjoxOTE1fSx7ImFsYnVtX2lkIjo1MywibmFtZSI6IkRlciBQcm96ZXNzIiwieWVhcl9yZWxlYXNlZCI6MTkyNX1dfQ==</td></tr><tr><td>eyJhcnRpc3RfaWQiOjE1LCJuYW1lIjoiVWRvIExpbmRlbmJlcmciLCJhbGJ1bXMiOlt7ImFsYnVtX2lkIjozMCwibmFtZSI6IlN0YXJrIHdpZSB6d2VpIiwieWVhcl9yZWxlYXNlZCI6MjAwOH0seyJhbGJ1bV9pZCI6MzEsIm5hbWUiOiJNVFYgVW5wbHVnZ2VkOiBMaXZlIGF1cyBkZW0gSG90ZWwgQXRsYW50aWMiLCJ5ZWFyX3JlbGVhc2VkIjoxMDExfV19</td></tr><tr><td>eyJhcnRpc3RfaWQiOjE2LCJuYW1lIjoiWGF2aWVyIE5haWRvbyIsImFsYnVtcyI6W3siYWxidW1faWQiOjMyLCJuYW1lIjoiTmljaHQgdm9uIGRpZXNlciBXZWx0IiwieWVhcl9yZWxlYXNlZCI6MTk5OH0seyJhbGJ1bV9pZCI6MzMsIm5hbWUiOiJUZWxlZ3JhbW0gZsO8ciBYIiwieWVhcl9yZWxlYXNlZCI6MjAwNX1dfQ==</td></tr><tr><td>eyJhcnRpc3RfaWQiOjE5LCJuYW1lIjoiU3BvcnRmcmV1bmRlIFN0aWxsZXIiLCJhbGJ1bXMiOlt7ImFsYnVtX2lkIjozOCwibmFtZSI6IkxhIEJ1bSIsInllYXJfcmVsZWFzZWQiOjIwMDd9LHsiYWxidW1faWQiOjM5LCJuYW1lIjoiTmV3IFlvcmsgLCBSaW8sIFJvc2VuaGVpbSwifX19</td></tr><tr><td>eyJhcnRpc3RfaWQiOjIwLCJuYW1lIjoiSmFuIERlbGF5IiwiYWxidW1zIjpbeyJhbGJ1bV9pZCI6NDAiLCJuYW1lIjoiTWVyY2VkZXMgRGFuY2UiLCJ5ZWFyX3JlbGVhc2VkIjoxOTk2fSx7ImFsYnVtX2lkIjo0MSwibmFtZSI6IkhhbW1lciAmIE1pY2hlbCIsInllYXJfcmVsZWFzZWQiOjIwMTR9XX0=</td></tr><tr><td>eyJhcnRpc3RfaWQiOjE3LCJuYW1lIjoiRmV0dGVzIEJyb3QiLCJhbGJ1bXMiOlt7ImFsYnVtX2lkIjozNCwibmFtZSI6IkF1ZiBlbmVtIEF1Z2UgYmxvZCIsInllYXJfcmVsZWFzZWQiOjIwMDF9LHsiYWxidW1faWQiOjM1LCJuYW1lIjoiMyBpdHMgbmUgUGFydHkiLCJ5ZWFyX3JlbGVhc2VkIjoxOTYzfV19</td></tr><tr><td>eyJhcnRpc3RfaWQiOjE4LCJuYW1lIjoiU2VlZWQiLCJhbGJ1bXMiOlt7ImFsYnVtX2lkIjozNiwibmFtZSI6Ik5leHQhIiwieWVhcl9yZWxlYXNlZCI6MjAwNX0seyJhbGJ1bV9pZCI6MzcsIm5hbWUiOiJCQU0gQkFNIn0seyJ5ZWFyX3JlbGVhc2VkIjoxOX1dfQ==</td></tr><tr><td>eyJhcnRpc3RfaWQiOjMsIm5hbWUiOiJSYW1tc3RlaW4iLCJhbGJ1bXMiOlt7ImFsYnVtX2lkIjo0LCJuYW1lIjoiU2VobnN1Y2h0IiwieWVhcl9yZWxlYXNlZCI6MTk5N30seyJhbGJ1bV9pZCI6NSwibmFtZSI6Ik11dHRlciIsInllYXJfcmVsZWFzZWQiOjIwMDF9XX0=</td></tr><tr><td>eyJhcnRpc3RfaWQiOjQsIm5hbWUiOiJTY29ycGlvbnMiLCJhbGJ1bXMiOlt7ImFsYnVtX2lkIjo2LCJuYW1lIjoiTG92ZSBhdCBGaXJzdCBTdGluZyIsInllYXJfcmVsZWFzZWQiOjE5ODR9LHsiYWxidW1faWQiOjc5LCJuYW1lIjoiQ3JhenkgV29ybGQiLCJ5ZWFyX3JlbGVhc2VkIjoxOTkwfV19</td></tr><tr><td>eyJhcnRpc3RfaWQiOjUsIm5hbWUiOiJLcmFmdHdvcmsiLCJhbGJ1bXMiOlt7ImFsYnVtX2lkIjo4LCJuYW1lIjoiQXV0b2JhaG4iLCJ5ZWFyX3JlbGVhc2VkIjoxOTc0fSx7ImFsYnVtX2lkIjoxMiwibmFtZSI6IlRoZSBNYW4tTWFjaGluZSIsInllYXJfcmVsZWFzZWQiOjE5Nzh9XX0=</td></tr><tr><td>eyJhcnRpc3RfaWQiOjYsIm5hbWUiOiJOZW5hIiwiYWxidW1zIjpbeyJhbGJ1bV9pZCI6MTMsIm5hbWUiOiI5OSBMdWZ0YmFsbG9ucyIsInllYXJfcmVsZWFzZWQiOjE5ODR9LHsiYWxidW1faWQiOjE0LCJuYW1lIjoiTmVuYSIsInllYXJfcmVsZWFzZWQiOjE5ODN9XX0=</td></tr><tr><td>eyJhcnRpc3RfaWQiOjIxLCJuYW1lIjoiQnVzaGlkbyIsImFsYnVtcyI6W3siYWxidW1faWQiOjQyLCJuYW1lIjoiNyIsInllYXJfcmVsZWFzZWQiOjIwMDd9LHsiYWxidW1faWQiOjQzLCJuYW1lIjoiSGVhdnlcbWV0YWwgUGF5YmFjayIsInllYXJfcmVsZWFzZWQiOjIwMTh9XX0=</td></tr><tr><td>eyJhcnRpc3RfaWQiOjIyLCJuYW1lIjoiU2lkbyIsImFsYnVtcyI6W3siYWxidW1faWQiOjQ0LCJuYW1lIjoiSWNoIHVuZCBtZWluZSBNYXNrZSIsInllYXJfcmVsZWFzZWQiOjIwMDh9LHsiYWxidW1faWQiOjQ1LCJuYW1lIjoiVkkifV19</td></tr><tr><td>eyJhcnRpc3RfaWQiOiAxLCAibmFtZSI6ICJKb2huIERvZSIsICJhbGJ1bXMiOiBbeyJhbGJ1bV9pZCI6IDEsICJuYW1lIjogIkFsYnVtIDEiLCAieWVhcl9yZWxlYXNlZCI6IDIwMjB9LCB7ImFsYnVtX2lkIjogMiwgIm5hbWUiOiAiQWxidW0gMiIsICJ5ZWFyX3JlbGVhc2VkIjogMjAyMX1dfQ==</td></tr><tr><td>eyJhcnRpc3RfaWQiOiAyLCAibmFtZSI6ICJKYW5lIFNtaXRoIiwgImFsYnVtcyI6IFt7ImFsYnVtX2lkIjogMywgIm5hbWUiOiAiQWxidW0gMyIsICJ5ZWFyX3JlbGVhc2VkIjogMjAyMn1dfQ==</td></tr></tbody></table></div>"
      ]
     },
     "metadata": {
      "application/vnd.databricks.v1+output": {
       "addedWidgets": {},
       "aggData": [],
       "aggError": "",
       "aggOverflow": false,
       "aggSchema": [],
       "aggSeriesLimitReached": false,
       "aggType": "",
       "arguments": {},
       "columnCustomDisplayInfos": {},
       "data": [
        [
         "eyJhcnRpc3RfaWQiOjIzLCJuYW1lIjoiUmFtIFVuemVyIiwiYWxidW1zIjpbeyJhbGJ1bV9pZCI6NDYsIm5hbWUiOiJHb3R0IHZlciBkaWUgRnJlaGVpdCIsInllYXJfcmVsZWFzZWQiOjIwMDJ9LHsiYWxidW1faWQiOjQ3LCJuYW1lIjoiU29ubmUgVGVjbm8iLCJ5ZWFyX3JlbGVhc2VkIjoxOTk0fV19"
        ],
        [
         "eyJhcnRpc3RfaWQiOjI0LCJuYW1lIjoiQmlsbCBLYXVsZXIgaW1tdXJldCIsImFsYnVtcyI6W3siYWxidW1faWQiOjQ4LCJuYW1lIjoiRGllIG5ldWVua2xhbmRlbiBncmVpZiwiLCJ5ZWFyX3JlbGVhc2VkIjoxOTk3fSx7ImFsYnVtX2lkIjo0OSwibmFtZSI6IkxlYmVuIHdpZSBDYXJ0YWcgVmFsbGV5In1dfQ=="
        ],
        [
         "eyJhcnRpc3RfaWQiOjI1LCJuYW1lIjoiRXJpYyBCdXJkb24iLCJhbGJ1bXMiOlt7ImFsYnVtX2lkIjo1MCwibmFtZSI6Ik1lZG1vcmFkaWVyIiwieWVhcl9yZWxlYXNlZCI6MTk5NX0seyJhbGJ1bV9pZCI6NTEsIm5hbWUiOiJMZXRoYWxiYSIsInllYXJfcmVsZWFzZWQiOjIwMDJ9XX0="
        ],
        [
         "eyJhcnRpc3RfaWQiOjI2LCJuYW1lIjoiVGhlIFByb2dyZXNzIiwiYWxidW1zIjpbeyJhbGJ1bV9pZCI6NTIsIm5hbWUiOiJEaWUgVmVyd2FuZGx1bmciLCJ5ZWFyX3JlbGVhc2VkIjoxOTE1fSx7ImFsYnVtX2lkIjo1MywibmFtZSI6IkRlciBQcm96ZXNzIiwieWVhcl9yZWxlYXNlZCI6MTkyNX1dfQ=="
        ],
        [
         "eyJhcnRpc3RfaWQiOjE1LCJuYW1lIjoiVWRvIExpbmRlbmJlcmciLCJhbGJ1bXMiOlt7ImFsYnVtX2lkIjozMCwibmFtZSI6IlN0YXJrIHdpZSB6d2VpIiwieWVhcl9yZWxlYXNlZCI6MjAwOH0seyJhbGJ1bV9pZCI6MzEsIm5hbWUiOiJNVFYgVW5wbHVnZ2VkOiBMaXZlIGF1cyBkZW0gSG90ZWwgQXRsYW50aWMiLCJ5ZWFyX3JlbGVhc2VkIjoxMDExfV19"
        ],
        [
         "eyJhcnRpc3RfaWQiOjE2LCJuYW1lIjoiWGF2aWVyIE5haWRvbyIsImFsYnVtcyI6W3siYWxidW1faWQiOjMyLCJuYW1lIjoiTmljaHQgdm9uIGRpZXNlciBXZWx0IiwieWVhcl9yZWxlYXNlZCI6MTk5OH0seyJhbGJ1bV9pZCI6MzMsIm5hbWUiOiJUZWxlZ3JhbW0gZsO8ciBYIiwieWVhcl9yZWxlYXNlZCI6MjAwNX1dfQ=="
        ],
        [
         "eyJhcnRpc3RfaWQiOjE5LCJuYW1lIjoiU3BvcnRmcmV1bmRlIFN0aWxsZXIiLCJhbGJ1bXMiOlt7ImFsYnVtX2lkIjozOCwibmFtZSI6IkxhIEJ1bSIsInllYXJfcmVsZWFzZWQiOjIwMDd9LHsiYWxidW1faWQiOjM5LCJuYW1lIjoiTmV3IFlvcmsgLCBSaW8sIFJvc2VuaGVpbSwifX19"
        ],
        [
         "eyJhcnRpc3RfaWQiOjIwLCJuYW1lIjoiSmFuIERlbGF5IiwiYWxidW1zIjpbeyJhbGJ1bV9pZCI6NDAiLCJuYW1lIjoiTWVyY2VkZXMgRGFuY2UiLCJ5ZWFyX3JlbGVhc2VkIjoxOTk2fSx7ImFsYnVtX2lkIjo0MSwibmFtZSI6IkhhbW1lciAmIE1pY2hlbCIsInllYXJfcmVsZWFzZWQiOjIwMTR9XX0="
        ],
        [
         "eyJhcnRpc3RfaWQiOjE3LCJuYW1lIjoiRmV0dGVzIEJyb3QiLCJhbGJ1bXMiOlt7ImFsYnVtX2lkIjozNCwibmFtZSI6IkF1ZiBlbmVtIEF1Z2UgYmxvZCIsInllYXJfcmVsZWFzZWQiOjIwMDF9LHsiYWxidW1faWQiOjM1LCJuYW1lIjoiMyBpdHMgbmUgUGFydHkiLCJ5ZWFyX3JlbGVhc2VkIjoxOTYzfV19"
        ],
        [
         "eyJhcnRpc3RfaWQiOjE4LCJuYW1lIjoiU2VlZWQiLCJhbGJ1bXMiOlt7ImFsYnVtX2lkIjozNiwibmFtZSI6Ik5leHQhIiwieWVhcl9yZWxlYXNlZCI6MjAwNX0seyJhbGJ1bV9pZCI6MzcsIm5hbWUiOiJCQU0gQkFNIn0seyJ5ZWFyX3JlbGVhc2VkIjoxOX1dfQ=="
        ],
        [
         "eyJhcnRpc3RfaWQiOjMsIm5hbWUiOiJSYW1tc3RlaW4iLCJhbGJ1bXMiOlt7ImFsYnVtX2lkIjo0LCJuYW1lIjoiU2VobnN1Y2h0IiwieWVhcl9yZWxlYXNlZCI6MTk5N30seyJhbGJ1bV9pZCI6NSwibmFtZSI6Ik11dHRlciIsInllYXJfcmVsZWFzZWQiOjIwMDF9XX0="
        ],
        [
         "eyJhcnRpc3RfaWQiOjQsIm5hbWUiOiJTY29ycGlvbnMiLCJhbGJ1bXMiOlt7ImFsYnVtX2lkIjo2LCJuYW1lIjoiTG92ZSBhdCBGaXJzdCBTdGluZyIsInllYXJfcmVsZWFzZWQiOjE5ODR9LHsiYWxidW1faWQiOjc5LCJuYW1lIjoiQ3JhenkgV29ybGQiLCJ5ZWFyX3JlbGVhc2VkIjoxOTkwfV19"
        ],
        [
         "eyJhcnRpc3RfaWQiOjUsIm5hbWUiOiJLcmFmdHdvcmsiLCJhbGJ1bXMiOlt7ImFsYnVtX2lkIjo4LCJuYW1lIjoiQXV0b2JhaG4iLCJ5ZWFyX3JlbGVhc2VkIjoxOTc0fSx7ImFsYnVtX2lkIjoxMiwibmFtZSI6IlRoZSBNYW4tTWFjaGluZSIsInllYXJfcmVsZWFzZWQiOjE5Nzh9XX0="
        ],
        [
         "eyJhcnRpc3RfaWQiOjYsIm5hbWUiOiJOZW5hIiwiYWxidW1zIjpbeyJhbGJ1bV9pZCI6MTMsIm5hbWUiOiI5OSBMdWZ0YmFsbG9ucyIsInllYXJfcmVsZWFzZWQiOjE5ODR9LHsiYWxidW1faWQiOjE0LCJuYW1lIjoiTmVuYSIsInllYXJfcmVsZWFzZWQiOjE5ODN9XX0="
        ],
        [
         "eyJhcnRpc3RfaWQiOjIxLCJuYW1lIjoiQnVzaGlkbyIsImFsYnVtcyI6W3siYWxidW1faWQiOjQyLCJuYW1lIjoiNyIsInllYXJfcmVsZWFzZWQiOjIwMDd9LHsiYWxidW1faWQiOjQzLCJuYW1lIjoiSGVhdnlcbWV0YWwgUGF5YmFjayIsInllYXJfcmVsZWFzZWQiOjIwMTh9XX0="
        ],
        [
         "eyJhcnRpc3RfaWQiOjIyLCJuYW1lIjoiU2lkbyIsImFsYnVtcyI6W3siYWxidW1faWQiOjQ0LCJuYW1lIjoiSWNoIHVuZCBtZWluZSBNYXNrZSIsInllYXJfcmVsZWFzZWQiOjIwMDh9LHsiYWxidW1faWQiOjQ1LCJuYW1lIjoiVkkifV19"
        ],
        [
         "eyJhcnRpc3RfaWQiOiAxLCAibmFtZSI6ICJKb2huIERvZSIsICJhbGJ1bXMiOiBbeyJhbGJ1bV9pZCI6IDEsICJuYW1lIjogIkFsYnVtIDEiLCAieWVhcl9yZWxlYXNlZCI6IDIwMjB9LCB7ImFsYnVtX2lkIjogMiwgIm5hbWUiOiAiQWxidW0gMiIsICJ5ZWFyX3JlbGVhc2VkIjogMjAyMX1dfQ=="
        ],
        [
         "eyJhcnRpc3RfaWQiOiAyLCAibmFtZSI6ICJKYW5lIFNtaXRoIiwgImFsYnVtcyI6IFt7ImFsYnVtX2lkIjogMywgIm5hbWUiOiAiQWxidW0gMyIsICJ5ZWFyX3JlbGVhc2VkIjogMjAyMn1dfQ=="
        ]
       ],
       "datasetInfos": [],
       "dbfsResultPath": null,
       "isJsonSchema": true,
       "metadata": {},
       "overflow": false,
       "plotOptions": {
        "customPlotOptions": {},
        "displayType": "table",
        "pivotAggregation": null,
        "pivotColumns": null,
        "xColumns": null,
        "yColumns": null
       },
       "removedWidgets": [],
       "schema": [
        {
         "metadata": "{}",
         "name": "value",
         "type": "\"string\""
        }
       ],
       "type": "table"
      }
     },
     "output_type": "display_data"
    }
   ],
   "source": [
    "df.select(\"value\").display(10)"
   ]
  },
  {
   "cell_type": "code",
   "execution_count": null,
   "metadata": {
    "application/vnd.databricks.v1+cell": {
     "cellMetadata": {
      "byteLimit": 2048000,
      "rowLimit": 10000
     },
     "inputWidgets": {},
     "nuid": "713e3f9e-8088-41ef-a333-76da1de030ad",
     "showTitle": false,
     "title": ""
    }
   },
   "outputs": [
    {
     "data": {
      "text/html": [
       "<style scoped>\n",
       "  .table-result-container {\n",
       "    max-height: 300px;\n",
       "    overflow: auto;\n",
       "  }\n",
       "  table, th, td {\n",
       "    border: 1px solid black;\n",
       "    border-collapse: collapse;\n",
       "  }\n",
       "  th, td {\n",
       "    padding: 5px;\n",
       "  }\n",
       "  th {\n",
       "    text-align: left;\n",
       "  }\n",
       "</style><div class='table-result-container'><table class='table-result'><thead style='background-color: white'><tr><th>key</th><th>partition</th><th>topic</th><th>value</th><th>unencoded_base64</th></tr></thead><tbody><tr><td>16a0c1eb-7c8c-4185-9156-c03f7b9e1a30</td><td>0</td><td>artists.registraions</td><td>eyJhcnRpc3RfaWQiOjIzLCJuYW1lIjoiUmFtIFVuemVyIiwiYWxidW1zIjpbeyJhbGJ1bV9pZCI6NDYsIm5hbWUiOiJHb3R0IHZlciBkaWUgRnJlaGVpdCIsInllYXJfcmVsZWFzZWQiOjIwMDJ9LHsiYWxidW1faWQiOjQ3LCJuYW1lIjoiU29ubmUgVGVjbm8iLCJ5ZWFyX3JlbGVhc2VkIjoxOTk0fV19</td><td>{\"artist_id\":23,\"name\":\"Ram Unzer\",\"albums\":[{\"album_id\":46,\"name\":\"Gott ver die Freheit\",\"year_released\":2002},{\"album_id\":47,\"name\":\"Sonne Tecno\",\"year_released\":1994}]}</td></tr><tr><td>17a0c1eb-7c8c-4185-9156-c03f7b9e1a31</td><td>0</td><td>artists.registraions</td><td>eyJhcnRpc3RfaWQiOjI0LCJuYW1lIjoiQmlsbCBLYXVsZXIgaW1tdXJldCIsImFsYnVtcyI6W3siYWxidW1faWQiOjQ4LCJuYW1lIjoiRGllIG5ldWVua2xhbmRlbiBncmVpZiwiLCJ5ZWFyX3JlbGVhc2VkIjoxOTk3fSx7ImFsYnVtX2lkIjo0OSwibmFtZSI6IkxlYmVuIHdpZSBDYXJ0YWcgVmFsbGV5In1dfQ==</td><td>{\"artist_id\":24,\"name\":\"Bill Kauler immuret\",\"albums\":[{\"album_id\":48,\"name\":\"Die neuenklanden greif,\",\"year_released\":1997},{\"album_id\":49,\"name\":\"Leben wie Cartag Valley\"}]}</td></tr><tr><td>18a0c1eb-7c8c-4185-9156-c03f7b9e1a32</td><td>0</td><td>artists.registraions</td><td>eyJhcnRpc3RfaWQiOjI1LCJuYW1lIjoiRXJpYyBCdXJkb24iLCJhbGJ1bXMiOlt7ImFsYnVtX2lkIjo1MCwibmFtZSI6Ik1lZG1vcmFkaWVyIiwieWVhcl9yZWxlYXNlZCI6MTk5NX0seyJhbGJ1bV9pZCI6NTEsIm5hbWUiOiJMZXRoYWxiYSIsInllYXJfcmVsZWFzZWQiOjIwMDJ9XX0=</td><td>{\"artist_id\":25,\"name\":\"Eric Burdon\",\"albums\":[{\"album_id\":50,\"name\":\"Medmoradier\",\"year_released\":1995},{\"album_id\":51,\"name\":\"Lethalba\",\"year_released\":2002}]}</td></tr><tr><td>19a0c1eb-7c8c-4185-9156-c03f7b9e1a33</td><td>0</td><td>artists.registraions</td><td>eyJhcnRpc3RfaWQiOjI2LCJuYW1lIjoiVGhlIFByb2dyZXNzIiwiYWxidW1zIjpbeyJhbGJ1bV9pZCI6NTIsIm5hbWUiOiJEaWUgVmVyd2FuZGx1bmciLCJ5ZWFyX3JlbGVhc2VkIjoxOTE1fSx7ImFsYnVtX2lkIjo1MywibmFtZSI6IkRlciBQcm96ZXNzIiwieWVhcl9yZWxlYXNlZCI6MTkyNX1dfQ==</td><td>{\"artist_id\":26,\"name\":\"The Progress\",\"albums\":[{\"album_id\":52,\"name\":\"Die Verwandlung\",\"year_released\":1915},{\"album_id\":53,\"name\":\"Der Prozess\",\"year_released\":1925}]}</td></tr><tr><td>df89d348-83ea-4ec0-9cc6-23ae86035a11</td><td>0</td><td>artists.registraions</td><td>eyJhcnRpc3RfaWQiOjE1LCJuYW1lIjoiVWRvIExpbmRlbmJlcmciLCJhbGJ1bXMiOlt7ImFsYnVtX2lkIjozMCwibmFtZSI6IlN0YXJrIHdpZSB6d2VpIiwieWVhcl9yZWxlYXNlZCI6MjAwOH0seyJhbGJ1bV9pZCI6MzEsIm5hbWUiOiJNVFYgVW5wbHVnZ2VkOiBMaXZlIGF1cyBkZW0gSG90ZWwgQXRsYW50aWMiLCJ5ZWFyX3JlbGVhc2VkIjoxMDExfV19</td><td>{\"artist_id\":15,\"name\":\"Udo Lindenberg\",\"albums\":[{\"album_id\":30,\"name\":\"Stark wie zwei\",\"year_released\":2008},{\"album_id\":31,\"name\":\"MTV Unplugged: Live aus dem Hotel Atlantic\",\"year_released\":1011}]}</td></tr><tr><td>e0ab4d19-4955-4a70-b839-712ab28da378</td><td>0</td><td>artists.registraions</td><td>eyJhcnRpc3RfaWQiOjE2LCJuYW1lIjoiWGF2aWVyIE5haWRvbyIsImFsYnVtcyI6W3siYWxidW1faWQiOjMyLCJuYW1lIjoiTmljaHQgdm9uIGRpZXNlciBXZWx0IiwieWVhcl9yZWxlYXNlZCI6MTk5OH0seyJhbGJ1bV9pZCI6MzMsIm5hbWUiOiJUZWxlZ3JhbW0gZsO8ciBYIiwieWVhcl9yZWxlYXNlZCI6MjAwNX1dfQ==</td><td>{\"artist_id\":16,\"name\":\"Xavier Naidoo\",\"albums\":[{\"album_id\":32,\"name\":\"Nicht von dieser Welt\",\"year_released\":1998},{\"album_id\":33,\"name\":\"Telegramm für X\",\"year_released\":2005}]}</td></tr><tr><td>c3b0dd26-40c0-4d95-a555-0e02797a1fd5</td><td>0</td><td>artists.registraions</td><td>eyJhcnRpc3RfaWQiOjE5LCJuYW1lIjoiU3BvcnRmcmV1bmRlIFN0aWxsZXIiLCJhbGJ1bXMiOlt7ImFsYnVtX2lkIjozOCwibmFtZSI6IkxhIEJ1bSIsInllYXJfcmVsZWFzZWQiOjIwMDd9LHsiYWxidW1faWQiOjM5LCJuYW1lIjoiTmV3IFlvcmsgLCBSaW8sIFJvc2VuaGVpbSwifX19</td><td>{\"artist_id\":19,\"name\":\"Sportfreunde Stiller\",\"albums\":[{\"album_id\":38,\"name\":\"La Bum\",\"year_released\":2007},{\"album_id\":39,\"name\":\"New York , Rio, Rosenheim,\"}}}</td></tr><tr><td>5b7a0be7-3820-4706-88d5-d2828b8b5e2e</td><td>0</td><td>artists.registraions</td><td>eyJhcnRpc3RfaWQiOjIwLCJuYW1lIjoiSmFuIERlbGF5IiwiYWxidW1zIjpbeyJhbGJ1bV9pZCI6NDAiLCJuYW1lIjoiTWVyY2VkZXMgRGFuY2UiLCJ5ZWFyX3JlbGVhc2VkIjoxOTk2fSx7ImFsYnVtX2lkIjo0MSwibmFtZSI6IkhhbW1lciAmIE1pY2hlbCIsInllYXJfcmVsZWFzZWQiOjIwMTR9XX0=</td><td>{\"artist_id\":20,\"name\":\"Jan Delay\",\"albums\":[{\"album_id\":40\",\"name\":\"Mercedes Dance\",\"year_released\":1996},{\"album_id\":41,\"name\":\"Hammer & Michel\",\"year_released\":2014}]}</td></tr><tr><td>f13e891a-75c8-4e0d-9825-31fdd176e1c3</td><td>0</td><td>artists.registraions</td><td>eyJhcnRpc3RfaWQiOjE3LCJuYW1lIjoiRmV0dGVzIEJyb3QiLCJhbGJ1bXMiOlt7ImFsYnVtX2lkIjozNCwibmFtZSI6IkF1ZiBlbmVtIEF1Z2UgYmxvZCIsInllYXJfcmVsZWFzZWQiOjIwMDF9LHsiYWxidW1faWQiOjM1LCJuYW1lIjoiMyBpdHMgbmUgUGFydHkiLCJ5ZWFyX3JlbGVhc2VkIjoxOTYzfV19</td><td>{\"artist_id\":17,\"name\":\"Fettes Brot\",\"albums\":[{\"album_id\":34,\"name\":\"Auf enem Auge blod\",\"year_released\":2001},{\"album_id\":35,\"name\":\"3 its ne Party\",\"year_released\":1963}]}</td></tr><tr><td>f271cbae-ef24-4b21-a7e5-70498c54a7e3</td><td>0</td><td>artists.registraions</td><td>eyJhcnRpc3RfaWQiOjE4LCJuYW1lIjoiU2VlZWQiLCJhbGJ1bXMiOlt7ImFsYnVtX2lkIjozNiwibmFtZSI6Ik5leHQhIiwieWVhcl9yZWxlYXNlZCI6MjAwNX0seyJhbGJ1bV9pZCI6MzcsIm5hbWUiOiJCQU0gQkFNIn0seyJ5ZWFyX3JlbGVhc2VkIjoxOX1dfQ==</td><td>{\"artist_id\":18,\"name\":\"Seeed\",\"albums\":[{\"album_id\":36,\"name\":\"Next!\",\"year_released\":2005},{\"album_id\":37,\"name\":\"BAM BAM\"},{\"year_released\":19}]}</td></tr><tr><td>13b2e18c-d93c-47c2-a5c7-aba3a42b1a47</td><td>0</td><td>artists.registraions</td><td>eyJhcnRpc3RfaWQiOjMsIm5hbWUiOiJSYW1tc3RlaW4iLCJhbGJ1bXMiOlt7ImFsYnVtX2lkIjo0LCJuYW1lIjoiU2VobnN1Y2h0IiwieWVhcl9yZWxlYXNlZCI6MTk5N30seyJhbGJ1bV9pZCI6NSwibmFtZSI6Ik11dHRlciIsInllYXJfcmVsZWFzZWQiOjIwMDF9XX0=</td><td>{\"artist_id\":3,\"name\":\"Rammstein\",\"albums\":[{\"album_id\":4,\"name\":\"Sehnsucht\",\"year_released\":1997},{\"album_id\":5,\"name\":\"Mutter\",\"year_released\":2001}]}</td></tr><tr><td>24ab5f80-4b89-4bb2-b920-37fc0873a9a8</td><td>0</td><td>artists.registraions</td><td>eyJhcnRpc3RfaWQiOjQsIm5hbWUiOiJTY29ycGlvbnMiLCJhbGJ1bXMiOlt7ImFsYnVtX2lkIjo2LCJuYW1lIjoiTG92ZSBhdCBGaXJzdCBTdGluZyIsInllYXJfcmVsZWFzZWQiOjE5ODR9LHsiYWxidW1faWQiOjc5LCJuYW1lIjoiQ3JhenkgV29ybGQiLCJ5ZWFyX3JlbGVhc2VkIjoxOTkwfV19</td><td>{\"artist_id\":4,\"name\":\"Scorpions\",\"albums\":[{\"album_id\":6,\"name\":\"Love at First Sting\",\"year_released\":1984},{\"album_id\":79,\"name\":\"Crazy World\",\"year_released\":1990}]}</td></tr><tr><td>3e8c0737-eef6-48d8-9407-6bcda80cb85d</td><td>0</td><td>artists.registraions</td><td>eyJhcnRpc3RfaWQiOjUsIm5hbWUiOiJLcmFmdHdvcmsiLCJhbGJ1bXMiOlt7ImFsYnVtX2lkIjo4LCJuYW1lIjoiQXV0b2JhaG4iLCJ5ZWFyX3JlbGVhc2VkIjoxOTc0fSx7ImFsYnVtX2lkIjoxMiwibmFtZSI6IlRoZSBNYW4tTWFjaGluZSIsInllYXJfcmVsZWFzZWQiOjE5Nzh9XX0=</td><td>{\"artist_id\":5,\"name\":\"Kraftwork\",\"albums\":[{\"album_id\":8,\"name\":\"Autobahn\",\"year_released\":1974},{\"album_id\":12,\"name\":\"The Man-Machine\",\"year_released\":1978}]}</td></tr><tr><td>46a9a7a1-8f74-4f63-b497-63571f1b1f1e</td><td>0</td><td>artists.registraions</td><td>eyJhcnRpc3RfaWQiOjYsIm5hbWUiOiJOZW5hIiwiYWxidW1zIjpbeyJhbGJ1bV9pZCI6MTMsIm5hbWUiOiI5OSBMdWZ0YmFsbG9ucyIsInllYXJfcmVsZWFzZWQiOjE5ODR9LHsiYWxidW1faWQiOjE0LCJuYW1lIjoiTmVuYSIsInllYXJfcmVsZWFzZWQiOjE5ODN9XX0=</td><td>{\"artist_id\":6,\"name\":\"Nena\",\"albums\":[{\"album_id\":13,\"name\":\"99 Luftballons\",\"year_released\":1984},{\"album_id\":14,\"name\":\"Nena\",\"year_released\":1983}]}</td></tr><tr><td>0b7d6cb8-cf95-4c4a-b988-33c83647e6e8</td><td>0</td><td>artists.registraions</td><td>eyJhcnRpc3RfaWQiOjIxLCJuYW1lIjoiQnVzaGlkbyIsImFsYnVtcyI6W3siYWxidW1faWQiOjQyLCJuYW1lIjoiNyIsInllYXJfcmVsZWFzZWQiOjIwMDd9LHsiYWxidW1faWQiOjQzLCJuYW1lIjoiSGVhdnlcbWV0YWwgUGF5YmFjayIsInllYXJfcmVsZWFzZWQiOjIwMTh9XX0=</td><td>{\"artist_id\":21,\"name\":\"Bushido\",\"albums\":[{\"album_id\":42,\"name\":\"7\",\"year_released\":2007},{\"album_id\":43,\"name\":\"Heavy\\metal Payback\",\"year_released\":2018}]}</td></tr><tr><td>15a0c1eb-7c8c-4185-9156-c03f7b9e1a29</td><td>0</td><td>artists.registraions</td><td>eyJhcnRpc3RfaWQiOjIyLCJuYW1lIjoiU2lkbyIsImFsYnVtcyI6W3siYWxidW1faWQiOjQ0LCJuYW1lIjoiSWNoIHVuZCBtZWluZSBNYXNrZSIsInllYXJfcmVsZWFzZWQiOjIwMDh9LHsiYWxidW1faWQiOjQ1LCJuYW1lIjoiVkkifV19</td><td>{\"artist_id\":22,\"name\":\"Sido\",\"albums\":[{\"album_id\":44,\"name\":\"Ich und meine Maske\",\"year_released\":2008},{\"album_id\":45,\"name\":\"VI\"}]}</td></tr><tr><td>bb6c0978-f322-4b4b-9948-8287e0db912a</td><td>0</td><td>artists.registraions</td><td>eyJhcnRpc3RfaWQiOiAxLCAibmFtZSI6ICJKb2huIERvZSIsICJhbGJ1bXMiOiBbeyJhbGJ1bV9pZCI6IDEsICJuYW1lIjogIkFsYnVtIDEiLCAieWVhcl9yZWxlYXNlZCI6IDIwMjB9LCB7ImFsYnVtX2lkIjogMiwgIm5hbWUiOiAiQWxidW0gMiIsICJ5ZWFyX3JlbGVhc2VkIjogMjAyMX1dfQ==</td><td>{\"artist_id\": 1, \"name\": \"John Doe\", \"albums\": [{\"album_id\": 1, \"name\": \"Album 1\", \"year_released\": 2020}, {\"album_id\": 2, \"name\": \"Album 2\", \"year_released\": 2021}]}</td></tr><tr><td>f13b1e46-91ef-4929-861e-7bd0d2d43c3f</td><td>0</td><td>artists.registraions</td><td>eyJhcnRpc3RfaWQiOiAyLCAibmFtZSI6ICJKYW5lIFNtaXRoIiwgImFsYnVtcyI6IFt7ImFsYnVtX2lkIjogMywgIm5hbWUiOiAiQWxidW0gMyIsICJ5ZWFyX3JlbGVhc2VkIjogMjAyMn1dfQ==</td><td>{\"artist_id\": 2, \"name\": \"Jane Smith\", \"albums\": [{\"album_id\": 3, \"name\": \"Album 3\", \"year_released\": 2022}]}</td></tr></tbody></table></div>"
      ]
     },
     "metadata": {
      "application/vnd.databricks.v1+output": {
       "addedWidgets": {},
       "aggData": [],
       "aggError": "",
       "aggOverflow": false,
       "aggSchema": [],
       "aggSeriesLimitReached": false,
       "aggType": "",
       "arguments": {},
       "columnCustomDisplayInfos": {},
       "data": [
        [
         "16a0c1eb-7c8c-4185-9156-c03f7b9e1a30",
         0,
         "artists.registraions",
         "eyJhcnRpc3RfaWQiOjIzLCJuYW1lIjoiUmFtIFVuemVyIiwiYWxidW1zIjpbeyJhbGJ1bV9pZCI6NDYsIm5hbWUiOiJHb3R0IHZlciBkaWUgRnJlaGVpdCIsInllYXJfcmVsZWFzZWQiOjIwMDJ9LHsiYWxidW1faWQiOjQ3LCJuYW1lIjoiU29ubmUgVGVjbm8iLCJ5ZWFyX3JlbGVhc2VkIjoxOTk0fV19",
         "{\"artist_id\":23,\"name\":\"Ram Unzer\",\"albums\":[{\"album_id\":46,\"name\":\"Gott ver die Freheit\",\"year_released\":2002},{\"album_id\":47,\"name\":\"Sonne Tecno\",\"year_released\":1994}]}"
        ],
        [
         "17a0c1eb-7c8c-4185-9156-c03f7b9e1a31",
         0,
         "artists.registraions",
         "eyJhcnRpc3RfaWQiOjI0LCJuYW1lIjoiQmlsbCBLYXVsZXIgaW1tdXJldCIsImFsYnVtcyI6W3siYWxidW1faWQiOjQ4LCJuYW1lIjoiRGllIG5ldWVua2xhbmRlbiBncmVpZiwiLCJ5ZWFyX3JlbGVhc2VkIjoxOTk3fSx7ImFsYnVtX2lkIjo0OSwibmFtZSI6IkxlYmVuIHdpZSBDYXJ0YWcgVmFsbGV5In1dfQ==",
         "{\"artist_id\":24,\"name\":\"Bill Kauler immuret\",\"albums\":[{\"album_id\":48,\"name\":\"Die neuenklanden greif,\",\"year_released\":1997},{\"album_id\":49,\"name\":\"Leben wie Cartag Valley\"}]}"
        ],
        [
         "18a0c1eb-7c8c-4185-9156-c03f7b9e1a32",
         0,
         "artists.registraions",
         "eyJhcnRpc3RfaWQiOjI1LCJuYW1lIjoiRXJpYyBCdXJkb24iLCJhbGJ1bXMiOlt7ImFsYnVtX2lkIjo1MCwibmFtZSI6Ik1lZG1vcmFkaWVyIiwieWVhcl9yZWxlYXNlZCI6MTk5NX0seyJhbGJ1bV9pZCI6NTEsIm5hbWUiOiJMZXRoYWxiYSIsInllYXJfcmVsZWFzZWQiOjIwMDJ9XX0=",
         "{\"artist_id\":25,\"name\":\"Eric Burdon\",\"albums\":[{\"album_id\":50,\"name\":\"Medmoradier\",\"year_released\":1995},{\"album_id\":51,\"name\":\"Lethalba\",\"year_released\":2002}]}"
        ],
        [
         "19a0c1eb-7c8c-4185-9156-c03f7b9e1a33",
         0,
         "artists.registraions",
         "eyJhcnRpc3RfaWQiOjI2LCJuYW1lIjoiVGhlIFByb2dyZXNzIiwiYWxidW1zIjpbeyJhbGJ1bV9pZCI6NTIsIm5hbWUiOiJEaWUgVmVyd2FuZGx1bmciLCJ5ZWFyX3JlbGVhc2VkIjoxOTE1fSx7ImFsYnVtX2lkIjo1MywibmFtZSI6IkRlciBQcm96ZXNzIiwieWVhcl9yZWxlYXNlZCI6MTkyNX1dfQ==",
         "{\"artist_id\":26,\"name\":\"The Progress\",\"albums\":[{\"album_id\":52,\"name\":\"Die Verwandlung\",\"year_released\":1915},{\"album_id\":53,\"name\":\"Der Prozess\",\"year_released\":1925}]}"
        ],
        [
         "df89d348-83ea-4ec0-9cc6-23ae86035a11",
         0,
         "artists.registraions",
         "eyJhcnRpc3RfaWQiOjE1LCJuYW1lIjoiVWRvIExpbmRlbmJlcmciLCJhbGJ1bXMiOlt7ImFsYnVtX2lkIjozMCwibmFtZSI6IlN0YXJrIHdpZSB6d2VpIiwieWVhcl9yZWxlYXNlZCI6MjAwOH0seyJhbGJ1bV9pZCI6MzEsIm5hbWUiOiJNVFYgVW5wbHVnZ2VkOiBMaXZlIGF1cyBkZW0gSG90ZWwgQXRsYW50aWMiLCJ5ZWFyX3JlbGVhc2VkIjoxMDExfV19",
         "{\"artist_id\":15,\"name\":\"Udo Lindenberg\",\"albums\":[{\"album_id\":30,\"name\":\"Stark wie zwei\",\"year_released\":2008},{\"album_id\":31,\"name\":\"MTV Unplugged: Live aus dem Hotel Atlantic\",\"year_released\":1011}]}"
        ],
        [
         "e0ab4d19-4955-4a70-b839-712ab28da378",
         0,
         "artists.registraions",
         "eyJhcnRpc3RfaWQiOjE2LCJuYW1lIjoiWGF2aWVyIE5haWRvbyIsImFsYnVtcyI6W3siYWxidW1faWQiOjMyLCJuYW1lIjoiTmljaHQgdm9uIGRpZXNlciBXZWx0IiwieWVhcl9yZWxlYXNlZCI6MTk5OH0seyJhbGJ1bV9pZCI6MzMsIm5hbWUiOiJUZWxlZ3JhbW0gZsO8ciBYIiwieWVhcl9yZWxlYXNlZCI6MjAwNX1dfQ==",
         "{\"artist_id\":16,\"name\":\"Xavier Naidoo\",\"albums\":[{\"album_id\":32,\"name\":\"Nicht von dieser Welt\",\"year_released\":1998},{\"album_id\":33,\"name\":\"Telegramm für X\",\"year_released\":2005}]}"
        ],
        [
         "c3b0dd26-40c0-4d95-a555-0e02797a1fd5",
         0,
         "artists.registraions",
         "eyJhcnRpc3RfaWQiOjE5LCJuYW1lIjoiU3BvcnRmcmV1bmRlIFN0aWxsZXIiLCJhbGJ1bXMiOlt7ImFsYnVtX2lkIjozOCwibmFtZSI6IkxhIEJ1bSIsInllYXJfcmVsZWFzZWQiOjIwMDd9LHsiYWxidW1faWQiOjM5LCJuYW1lIjoiTmV3IFlvcmsgLCBSaW8sIFJvc2VuaGVpbSwifX19",
         "{\"artist_id\":19,\"name\":\"Sportfreunde Stiller\",\"albums\":[{\"album_id\":38,\"name\":\"La Bum\",\"year_released\":2007},{\"album_id\":39,\"name\":\"New York , Rio, Rosenheim,\"}}}"
        ],
        [
         "5b7a0be7-3820-4706-88d5-d2828b8b5e2e",
         0,
         "artists.registraions",
         "eyJhcnRpc3RfaWQiOjIwLCJuYW1lIjoiSmFuIERlbGF5IiwiYWxidW1zIjpbeyJhbGJ1bV9pZCI6NDAiLCJuYW1lIjoiTWVyY2VkZXMgRGFuY2UiLCJ5ZWFyX3JlbGVhc2VkIjoxOTk2fSx7ImFsYnVtX2lkIjo0MSwibmFtZSI6IkhhbW1lciAmIE1pY2hlbCIsInllYXJfcmVsZWFzZWQiOjIwMTR9XX0=",
         "{\"artist_id\":20,\"name\":\"Jan Delay\",\"albums\":[{\"album_id\":40\",\"name\":\"Mercedes Dance\",\"year_released\":1996},{\"album_id\":41,\"name\":\"Hammer & Michel\",\"year_released\":2014}]}"
        ],
        [
         "f13e891a-75c8-4e0d-9825-31fdd176e1c3",
         0,
         "artists.registraions",
         "eyJhcnRpc3RfaWQiOjE3LCJuYW1lIjoiRmV0dGVzIEJyb3QiLCJhbGJ1bXMiOlt7ImFsYnVtX2lkIjozNCwibmFtZSI6IkF1ZiBlbmVtIEF1Z2UgYmxvZCIsInllYXJfcmVsZWFzZWQiOjIwMDF9LHsiYWxidW1faWQiOjM1LCJuYW1lIjoiMyBpdHMgbmUgUGFydHkiLCJ5ZWFyX3JlbGVhc2VkIjoxOTYzfV19",
         "{\"artist_id\":17,\"name\":\"Fettes Brot\",\"albums\":[{\"album_id\":34,\"name\":\"Auf enem Auge blod\",\"year_released\":2001},{\"album_id\":35,\"name\":\"3 its ne Party\",\"year_released\":1963}]}"
        ],
        [
         "f271cbae-ef24-4b21-a7e5-70498c54a7e3",
         0,
         "artists.registraions",
         "eyJhcnRpc3RfaWQiOjE4LCJuYW1lIjoiU2VlZWQiLCJhbGJ1bXMiOlt7ImFsYnVtX2lkIjozNiwibmFtZSI6Ik5leHQhIiwieWVhcl9yZWxlYXNlZCI6MjAwNX0seyJhbGJ1bV9pZCI6MzcsIm5hbWUiOiJCQU0gQkFNIn0seyJ5ZWFyX3JlbGVhc2VkIjoxOX1dfQ==",
         "{\"artist_id\":18,\"name\":\"Seeed\",\"albums\":[{\"album_id\":36,\"name\":\"Next!\",\"year_released\":2005},{\"album_id\":37,\"name\":\"BAM BAM\"},{\"year_released\":19}]}"
        ],
        [
         "13b2e18c-d93c-47c2-a5c7-aba3a42b1a47",
         0,
         "artists.registraions",
         "eyJhcnRpc3RfaWQiOjMsIm5hbWUiOiJSYW1tc3RlaW4iLCJhbGJ1bXMiOlt7ImFsYnVtX2lkIjo0LCJuYW1lIjoiU2VobnN1Y2h0IiwieWVhcl9yZWxlYXNlZCI6MTk5N30seyJhbGJ1bV9pZCI6NSwibmFtZSI6Ik11dHRlciIsInllYXJfcmVsZWFzZWQiOjIwMDF9XX0=",
         "{\"artist_id\":3,\"name\":\"Rammstein\",\"albums\":[{\"album_id\":4,\"name\":\"Sehnsucht\",\"year_released\":1997},{\"album_id\":5,\"name\":\"Mutter\",\"year_released\":2001}]}"
        ],
        [
         "24ab5f80-4b89-4bb2-b920-37fc0873a9a8",
         0,
         "artists.registraions",
         "eyJhcnRpc3RfaWQiOjQsIm5hbWUiOiJTY29ycGlvbnMiLCJhbGJ1bXMiOlt7ImFsYnVtX2lkIjo2LCJuYW1lIjoiTG92ZSBhdCBGaXJzdCBTdGluZyIsInllYXJfcmVsZWFzZWQiOjE5ODR9LHsiYWxidW1faWQiOjc5LCJuYW1lIjoiQ3JhenkgV29ybGQiLCJ5ZWFyX3JlbGVhc2VkIjoxOTkwfV19",
         "{\"artist_id\":4,\"name\":\"Scorpions\",\"albums\":[{\"album_id\":6,\"name\":\"Love at First Sting\",\"year_released\":1984},{\"album_id\":79,\"name\":\"Crazy World\",\"year_released\":1990}]}"
        ],
        [
         "3e8c0737-eef6-48d8-9407-6bcda80cb85d",
         0,
         "artists.registraions",
         "eyJhcnRpc3RfaWQiOjUsIm5hbWUiOiJLcmFmdHdvcmsiLCJhbGJ1bXMiOlt7ImFsYnVtX2lkIjo4LCJuYW1lIjoiQXV0b2JhaG4iLCJ5ZWFyX3JlbGVhc2VkIjoxOTc0fSx7ImFsYnVtX2lkIjoxMiwibmFtZSI6IlRoZSBNYW4tTWFjaGluZSIsInllYXJfcmVsZWFzZWQiOjE5Nzh9XX0=",
         "{\"artist_id\":5,\"name\":\"Kraftwork\",\"albums\":[{\"album_id\":8,\"name\":\"Autobahn\",\"year_released\":1974},{\"album_id\":12,\"name\":\"The Man-Machine\",\"year_released\":1978}]}"
        ],
        [
         "46a9a7a1-8f74-4f63-b497-63571f1b1f1e",
         0,
         "artists.registraions",
         "eyJhcnRpc3RfaWQiOjYsIm5hbWUiOiJOZW5hIiwiYWxidW1zIjpbeyJhbGJ1bV9pZCI6MTMsIm5hbWUiOiI5OSBMdWZ0YmFsbG9ucyIsInllYXJfcmVsZWFzZWQiOjE5ODR9LHsiYWxidW1faWQiOjE0LCJuYW1lIjoiTmVuYSIsInllYXJfcmVsZWFzZWQiOjE5ODN9XX0=",
         "{\"artist_id\":6,\"name\":\"Nena\",\"albums\":[{\"album_id\":13,\"name\":\"99 Luftballons\",\"year_released\":1984},{\"album_id\":14,\"name\":\"Nena\",\"year_released\":1983}]}"
        ],
        [
         "0b7d6cb8-cf95-4c4a-b988-33c83647e6e8",
         0,
         "artists.registraions",
         "eyJhcnRpc3RfaWQiOjIxLCJuYW1lIjoiQnVzaGlkbyIsImFsYnVtcyI6W3siYWxidW1faWQiOjQyLCJuYW1lIjoiNyIsInllYXJfcmVsZWFzZWQiOjIwMDd9LHsiYWxidW1faWQiOjQzLCJuYW1lIjoiSGVhdnlcbWV0YWwgUGF5YmFjayIsInllYXJfcmVsZWFzZWQiOjIwMTh9XX0=",
         "{\"artist_id\":21,\"name\":\"Bushido\",\"albums\":[{\"album_id\":42,\"name\":\"7\",\"year_released\":2007},{\"album_id\":43,\"name\":\"Heavy\\metal Payback\",\"year_released\":2018}]}"
        ],
        [
         "15a0c1eb-7c8c-4185-9156-c03f7b9e1a29",
         0,
         "artists.registraions",
         "eyJhcnRpc3RfaWQiOjIyLCJuYW1lIjoiU2lkbyIsImFsYnVtcyI6W3siYWxidW1faWQiOjQ0LCJuYW1lIjoiSWNoIHVuZCBtZWluZSBNYXNrZSIsInllYXJfcmVsZWFzZWQiOjIwMDh9LHsiYWxidW1faWQiOjQ1LCJuYW1lIjoiVkkifV19",
         "{\"artist_id\":22,\"name\":\"Sido\",\"albums\":[{\"album_id\":44,\"name\":\"Ich und meine Maske\",\"year_released\":2008},{\"album_id\":45,\"name\":\"VI\"}]}"
        ],
        [
         "bb6c0978-f322-4b4b-9948-8287e0db912a",
         0,
         "artists.registraions",
         "eyJhcnRpc3RfaWQiOiAxLCAibmFtZSI6ICJKb2huIERvZSIsICJhbGJ1bXMiOiBbeyJhbGJ1bV9pZCI6IDEsICJuYW1lIjogIkFsYnVtIDEiLCAieWVhcl9yZWxlYXNlZCI6IDIwMjB9LCB7ImFsYnVtX2lkIjogMiwgIm5hbWUiOiAiQWxidW0gMiIsICJ5ZWFyX3JlbGVhc2VkIjogMjAyMX1dfQ==",
         "{\"artist_id\": 1, \"name\": \"John Doe\", \"albums\": [{\"album_id\": 1, \"name\": \"Album 1\", \"year_released\": 2020}, {\"album_id\": 2, \"name\": \"Album 2\", \"year_released\": 2021}]}"
        ],
        [
         "f13b1e46-91ef-4929-861e-7bd0d2d43c3f",
         0,
         "artists.registraions",
         "eyJhcnRpc3RfaWQiOiAyLCAibmFtZSI6ICJKYW5lIFNtaXRoIiwgImFsYnVtcyI6IFt7ImFsYnVtX2lkIjogMywgIm5hbWUiOiAiQWxidW0gMyIsICJ5ZWFyX3JlbGVhc2VkIjogMjAyMn1dfQ==",
         "{\"artist_id\": 2, \"name\": \"Jane Smith\", \"albums\": [{\"album_id\": 3, \"name\": \"Album 3\", \"year_released\": 2022}]}"
        ]
       ],
       "datasetInfos": [],
       "dbfsResultPath": null,
       "isJsonSchema": true,
       "metadata": {},
       "overflow": false,
       "plotOptions": {
        "customPlotOptions": {},
        "displayType": "table",
        "pivotAggregation": null,
        "pivotColumns": null,
        "xColumns": null,
        "yColumns": null
       },
       "removedWidgets": [],
       "schema": [
        {
         "metadata": "{}",
         "name": "key",
         "type": "\"string\""
        },
        {
         "metadata": "{}",
         "name": "partition",
         "type": "\"long\""
        },
        {
         "metadata": "{}",
         "name": "topic",
         "type": "\"string\""
        },
        {
         "metadata": "{}",
         "name": "value",
         "type": "\"string\""
        },
        {
         "metadata": "{}",
         "name": "unencoded_base64",
         "type": "\"string\""
        }
       ],
       "type": "table"
      }
     },
     "output_type": "display_data"
    }
   ],
   "source": [
    "from pyspark.sql.functions import unbase64\n",
    "df2 = df.withColumn('unencoded_base64',unbase64(df.value).cast(\"string\"))\n",
    "df2.display(10)"
   ]
  },
  {
   "cell_type": "code",
   "execution_count": null,
   "metadata": {
    "application/vnd.databricks.v1+cell": {
     "cellMetadata": {
      "byteLimit": 2048000,
      "rowLimit": 10000
     },
     "inputWidgets": {},
     "nuid": "172aeda5-59a7-4b25-bea7-f7fb0a21268d",
     "showTitle": false,
     "title": ""
    }
   },
   "outputs": [
    {
     "data": {
      "text/html": [
       "<style scoped>\n",
       "  .table-result-container {\n",
       "    max-height: 300px;\n",
       "    overflow: auto;\n",
       "  }\n",
       "  table, th, td {\n",
       "    border: 1px solid black;\n",
       "    border-collapse: collapse;\n",
       "  }\n",
       "  th, td {\n",
       "    padding: 5px;\n",
       "  }\n",
       "  th {\n",
       "    text-align: left;\n",
       "  }\n",
       "</style><div class='table-result-container'><table class='table-result'><thead style='background-color: white'><tr><th>unencoded_base64</th></tr></thead><tbody><tr><td>{\"artist_id\":23,\"name\":\"Ram Unzer\",\"albums\":[{\"album_id\":46,\"name\":\"Gott ver die Freheit\",\"year_released\":2002},{\"album_id\":47,\"name\":\"Sonne Tecno\",\"year_released\":1994}]}</td></tr><tr><td>{\"artist_id\":24,\"name\":\"Bill Kauler immuret\",\"albums\":[{\"album_id\":48,\"name\":\"Die neuenklanden greif,\",\"year_released\":1997},{\"album_id\":49,\"name\":\"Leben wie Cartag Valley\"}]}</td></tr><tr><td>{\"artist_id\":25,\"name\":\"Eric Burdon\",\"albums\":[{\"album_id\":50,\"name\":\"Medmoradier\",\"year_released\":1995},{\"album_id\":51,\"name\":\"Lethalba\",\"year_released\":2002}]}</td></tr><tr><td>{\"artist_id\":26,\"name\":\"The Progress\",\"albums\":[{\"album_id\":52,\"name\":\"Die Verwandlung\",\"year_released\":1915},{\"album_id\":53,\"name\":\"Der Prozess\",\"year_released\":1925}]}</td></tr><tr><td>{\"artist_id\":15,\"name\":\"Udo Lindenberg\",\"albums\":[{\"album_id\":30,\"name\":\"Stark wie zwei\",\"year_released\":2008},{\"album_id\":31,\"name\":\"MTV Unplugged: Live aus dem Hotel Atlantic\",\"year_released\":1011}]}</td></tr><tr><td>{\"artist_id\":16,\"name\":\"Xavier Naidoo\",\"albums\":[{\"album_id\":32,\"name\":\"Nicht von dieser Welt\",\"year_released\":1998},{\"album_id\":33,\"name\":\"Telegramm für X\",\"year_released\":2005}]}</td></tr><tr><td>{\"artist_id\":19,\"name\":\"Sportfreunde Stiller\",\"albums\":[{\"album_id\":38,\"name\":\"La Bum\",\"year_released\":2007},{\"album_id\":39,\"name\":\"New York , Rio, Rosenheim,\"}}}</td></tr><tr><td>{\"artist_id\":20,\"name\":\"Jan Delay\",\"albums\":[{\"album_id\":40\",\"name\":\"Mercedes Dance\",\"year_released\":1996},{\"album_id\":41,\"name\":\"Hammer & Michel\",\"year_released\":2014}]}</td></tr><tr><td>{\"artist_id\":17,\"name\":\"Fettes Brot\",\"albums\":[{\"album_id\":34,\"name\":\"Auf enem Auge blod\",\"year_released\":2001},{\"album_id\":35,\"name\":\"3 its ne Party\",\"year_released\":1963}]}</td></tr><tr><td>{\"artist_id\":18,\"name\":\"Seeed\",\"albums\":[{\"album_id\":36,\"name\":\"Next!\",\"year_released\":2005},{\"album_id\":37,\"name\":\"BAM BAM\"},{\"year_released\":19}]}</td></tr><tr><td>{\"artist_id\":3,\"name\":\"Rammstein\",\"albums\":[{\"album_id\":4,\"name\":\"Sehnsucht\",\"year_released\":1997},{\"album_id\":5,\"name\":\"Mutter\",\"year_released\":2001}]}</td></tr><tr><td>{\"artist_id\":4,\"name\":\"Scorpions\",\"albums\":[{\"album_id\":6,\"name\":\"Love at First Sting\",\"year_released\":1984},{\"album_id\":79,\"name\":\"Crazy World\",\"year_released\":1990}]}</td></tr><tr><td>{\"artist_id\":5,\"name\":\"Kraftwork\",\"albums\":[{\"album_id\":8,\"name\":\"Autobahn\",\"year_released\":1974},{\"album_id\":12,\"name\":\"The Man-Machine\",\"year_released\":1978}]}</td></tr><tr><td>{\"artist_id\":6,\"name\":\"Nena\",\"albums\":[{\"album_id\":13,\"name\":\"99 Luftballons\",\"year_released\":1984},{\"album_id\":14,\"name\":\"Nena\",\"year_released\":1983}]}</td></tr><tr><td>{\"artist_id\":21,\"name\":\"Bushido\",\"albums\":[{\"album_id\":42,\"name\":\"7\",\"year_released\":2007},{\"album_id\":43,\"name\":\"Heavy\\metal Payback\",\"year_released\":2018}]}</td></tr><tr><td>{\"artist_id\":22,\"name\":\"Sido\",\"albums\":[{\"album_id\":44,\"name\":\"Ich und meine Maske\",\"year_released\":2008},{\"album_id\":45,\"name\":\"VI\"}]}</td></tr><tr><td>{\"artist_id\": 1, \"name\": \"John Doe\", \"albums\": [{\"album_id\": 1, \"name\": \"Album 1\", \"year_released\": 2020}, {\"album_id\": 2, \"name\": \"Album 2\", \"year_released\": 2021}]}</td></tr><tr><td>{\"artist_id\": 2, \"name\": \"Jane Smith\", \"albums\": [{\"album_id\": 3, \"name\": \"Album 3\", \"year_released\": 2022}]}</td></tr></tbody></table></div>"
      ]
     },
     "metadata": {
      "application/vnd.databricks.v1+output": {
       "addedWidgets": {},
       "aggData": [],
       "aggError": "",
       "aggOverflow": false,
       "aggSchema": [],
       "aggSeriesLimitReached": false,
       "aggType": "",
       "arguments": {},
       "columnCustomDisplayInfos": {},
       "data": [
        [
         "{\"artist_id\":23,\"name\":\"Ram Unzer\",\"albums\":[{\"album_id\":46,\"name\":\"Gott ver die Freheit\",\"year_released\":2002},{\"album_id\":47,\"name\":\"Sonne Tecno\",\"year_released\":1994}]}"
        ],
        [
         "{\"artist_id\":24,\"name\":\"Bill Kauler immuret\",\"albums\":[{\"album_id\":48,\"name\":\"Die neuenklanden greif,\",\"year_released\":1997},{\"album_id\":49,\"name\":\"Leben wie Cartag Valley\"}]}"
        ],
        [
         "{\"artist_id\":25,\"name\":\"Eric Burdon\",\"albums\":[{\"album_id\":50,\"name\":\"Medmoradier\",\"year_released\":1995},{\"album_id\":51,\"name\":\"Lethalba\",\"year_released\":2002}]}"
        ],
        [
         "{\"artist_id\":26,\"name\":\"The Progress\",\"albums\":[{\"album_id\":52,\"name\":\"Die Verwandlung\",\"year_released\":1915},{\"album_id\":53,\"name\":\"Der Prozess\",\"year_released\":1925}]}"
        ],
        [
         "{\"artist_id\":15,\"name\":\"Udo Lindenberg\",\"albums\":[{\"album_id\":30,\"name\":\"Stark wie zwei\",\"year_released\":2008},{\"album_id\":31,\"name\":\"MTV Unplugged: Live aus dem Hotel Atlantic\",\"year_released\":1011}]}"
        ],
        [
         "{\"artist_id\":16,\"name\":\"Xavier Naidoo\",\"albums\":[{\"album_id\":32,\"name\":\"Nicht von dieser Welt\",\"year_released\":1998},{\"album_id\":33,\"name\":\"Telegramm für X\",\"year_released\":2005}]}"
        ],
        [
         "{\"artist_id\":19,\"name\":\"Sportfreunde Stiller\",\"albums\":[{\"album_id\":38,\"name\":\"La Bum\",\"year_released\":2007},{\"album_id\":39,\"name\":\"New York , Rio, Rosenheim,\"}}}"
        ],
        [
         "{\"artist_id\":20,\"name\":\"Jan Delay\",\"albums\":[{\"album_id\":40\",\"name\":\"Mercedes Dance\",\"year_released\":1996},{\"album_id\":41,\"name\":\"Hammer & Michel\",\"year_released\":2014}]}"
        ],
        [
         "{\"artist_id\":17,\"name\":\"Fettes Brot\",\"albums\":[{\"album_id\":34,\"name\":\"Auf enem Auge blod\",\"year_released\":2001},{\"album_id\":35,\"name\":\"3 its ne Party\",\"year_released\":1963}]}"
        ],
        [
         "{\"artist_id\":18,\"name\":\"Seeed\",\"albums\":[{\"album_id\":36,\"name\":\"Next!\",\"year_released\":2005},{\"album_id\":37,\"name\":\"BAM BAM\"},{\"year_released\":19}]}"
        ],
        [
         "{\"artist_id\":3,\"name\":\"Rammstein\",\"albums\":[{\"album_id\":4,\"name\":\"Sehnsucht\",\"year_released\":1997},{\"album_id\":5,\"name\":\"Mutter\",\"year_released\":2001}]}"
        ],
        [
         "{\"artist_id\":4,\"name\":\"Scorpions\",\"albums\":[{\"album_id\":6,\"name\":\"Love at First Sting\",\"year_released\":1984},{\"album_id\":79,\"name\":\"Crazy World\",\"year_released\":1990}]}"
        ],
        [
         "{\"artist_id\":5,\"name\":\"Kraftwork\",\"albums\":[{\"album_id\":8,\"name\":\"Autobahn\",\"year_released\":1974},{\"album_id\":12,\"name\":\"The Man-Machine\",\"year_released\":1978}]}"
        ],
        [
         "{\"artist_id\":6,\"name\":\"Nena\",\"albums\":[{\"album_id\":13,\"name\":\"99 Luftballons\",\"year_released\":1984},{\"album_id\":14,\"name\":\"Nena\",\"year_released\":1983}]}"
        ],
        [
         "{\"artist_id\":21,\"name\":\"Bushido\",\"albums\":[{\"album_id\":42,\"name\":\"7\",\"year_released\":2007},{\"album_id\":43,\"name\":\"Heavy\\metal Payback\",\"year_released\":2018}]}"
        ],
        [
         "{\"artist_id\":22,\"name\":\"Sido\",\"albums\":[{\"album_id\":44,\"name\":\"Ich und meine Maske\",\"year_released\":2008},{\"album_id\":45,\"name\":\"VI\"}]}"
        ],
        [
         "{\"artist_id\": 1, \"name\": \"John Doe\", \"albums\": [{\"album_id\": 1, \"name\": \"Album 1\", \"year_released\": 2020}, {\"album_id\": 2, \"name\": \"Album 2\", \"year_released\": 2021}]}"
        ],
        [
         "{\"artist_id\": 2, \"name\": \"Jane Smith\", \"albums\": [{\"album_id\": 3, \"name\": \"Album 3\", \"year_released\": 2022}]}"
        ]
       ],
       "datasetInfos": [],
       "dbfsResultPath": null,
       "isJsonSchema": true,
       "metadata": {},
       "overflow": false,
       "plotOptions": {
        "customPlotOptions": {},
        "displayType": "table",
        "pivotAggregation": null,
        "pivotColumns": null,
        "xColumns": null,
        "yColumns": null
       },
       "removedWidgets": [],
       "schema": [
        {
         "metadata": "{}",
         "name": "unencoded_base64",
         "type": "\"string\""
        }
       ],
       "type": "table"
      }
     },
     "output_type": "display_data"
    },
    {
     "data": {
      "text/plain": [
       "\u001b[0;31m---------------------------------------------------------------------------\u001b[0m\n",
       "\u001b[0;31mTypeError\u001b[0m                                 Traceback (most recent call last)\n",
       "File \u001b[0;32m<command-2760079726745019>:1\u001b[0m\n",
       "\u001b[0;32m----> 1\u001b[0m \u001b[43mdf2\u001b[49m\u001b[38;5;241;43m.\u001b[39;49m\u001b[43mselect\u001b[49m\u001b[43m(\u001b[49m\u001b[38;5;124;43m\"\u001b[39;49m\u001b[38;5;124;43munencoded_base64\u001b[39;49m\u001b[38;5;124;43m\"\u001b[39;49m\u001b[43m)\u001b[49m\u001b[38;5;241;43m.\u001b[39;49m\u001b[43mdisplay\u001b[49m\u001b[43m(\u001b[49m\u001b[43m)\u001b[49m\u001b[43m[\u001b[49m\u001b[38;5;241;43m0\u001b[39;49m\u001b[43m]\u001b[49m\n",
       "\n",
       "\u001b[0;31mTypeError\u001b[0m: 'NoneType' object is not subscriptable"
      ]
     },
     "metadata": {
      "application/vnd.databricks.v1+output": {
       "arguments": {},
       "data": "\u001b[0;31m---------------------------------------------------------------------------\u001b[0m\n\u001b[0;31mTypeError\u001b[0m                                 Traceback (most recent call last)\nFile \u001b[0;32m<command-2760079726745019>:1\u001b[0m\n\u001b[0;32m----> 1\u001b[0m \u001b[43mdf2\u001b[49m\u001b[38;5;241;43m.\u001b[39;49m\u001b[43mselect\u001b[49m\u001b[43m(\u001b[49m\u001b[38;5;124;43m\"\u001b[39;49m\u001b[38;5;124;43munencoded_base64\u001b[39;49m\u001b[38;5;124;43m\"\u001b[39;49m\u001b[43m)\u001b[49m\u001b[38;5;241;43m.\u001b[39;49m\u001b[43mdisplay\u001b[49m\u001b[43m(\u001b[49m\u001b[43m)\u001b[49m\u001b[43m[\u001b[49m\u001b[38;5;241;43m0\u001b[39;49m\u001b[43m]\u001b[49m\n\n\u001b[0;31mTypeError\u001b[0m: 'NoneType' object is not subscriptable",
       "errorSummary": "<span class='ansi-red-fg'>TypeError</span>: 'NoneType' object is not subscriptable",
       "errorTraceType": "ansi",
       "metadata": {},
       "type": "ipynbError"
      }
     },
     "output_type": "display_data"
    }
   ],
   "source": [
    "df2.select(\"unencoded_base64\").display()"
   ]
  },
  {
   "cell_type": "code",
   "execution_count": null,
   "metadata": {
    "application/vnd.databricks.v1+cell": {
     "cellMetadata": {},
     "inputWidgets": {},
     "nuid": "b66a20e6-cd9d-43d7-89b3-634143d5fc76",
     "showTitle": false,
     "title": ""
    }
   },
   "outputs": [],
   "source": []
  },
  {
   "cell_type": "code",
   "execution_count": null,
   "metadata": {
    "application/vnd.databricks.v1+cell": {
     "cellMetadata": {
      "byteLimit": 2048000,
      "rowLimit": 10000
     },
     "inputWidgets": {},
     "nuid": "28413fe8-4f3f-4e44-8538-2fe086f86aea",
     "showTitle": false,
     "title": ""
    }
   },
   "outputs": [
    {
     "data": {
      "text/html": [
       "<style scoped>\n",
       "  .table-result-container {\n",
       "    max-height: 300px;\n",
       "    overflow: auto;\n",
       "  }\n",
       "  table, th, td {\n",
       "    border: 1px solid black;\n",
       "    border-collapse: collapse;\n",
       "  }\n",
       "  th, td {\n",
       "    padding: 5px;\n",
       "  }\n",
       "  th {\n",
       "    text-align: left;\n",
       "  }\n",
       "</style><div class='table-result-container'><table class='table-result'><thead style='background-color: white'><tr><th>key</th><th>partition</th><th>topic</th><th>value</th><th>unencoded_base64</th><th>parsed_json</th></tr></thead><tbody><tr><td>16a0c1eb-7c8c-4185-9156-c03f7b9e1a30</td><td>0</td><td>artists.registraions</td><td>eyJhcnRpc3RfaWQiOjIzLCJuYW1lIjoiUmFtIFVuemVyIiwiYWxidW1zIjpbeyJhbGJ1bV9pZCI6NDYsIm5hbWUiOiJHb3R0IHZlciBkaWUgRnJlaGVpdCIsInllYXJfcmVsZWFzZWQiOjIwMDJ9LHsiYWxidW1faWQiOjQ3LCJuYW1lIjoiU29ubmUgVGVjbm8iLCJ5ZWFyX3JlbGVhc2VkIjoxOTk0fV19</td><td>{\"artist_id\":23,\"name\":\"Ram Unzer\",\"albums\":[{\"album_id\":46,\"name\":\"Gott ver die Freheit\",\"year_released\":2002},{\"album_id\":47,\"name\":\"Sonne Tecno\",\"year_released\":1994}]}</td><td>List(23, Ram Unzer, List(List(46, Gott ver die Freheit, 2002), List(47, Sonne Tecno, 1994)))</td></tr><tr><td>17a0c1eb-7c8c-4185-9156-c03f7b9e1a31</td><td>0</td><td>artists.registraions</td><td>eyJhcnRpc3RfaWQiOjI0LCJuYW1lIjoiQmlsbCBLYXVsZXIgaW1tdXJldCIsImFsYnVtcyI6W3siYWxidW1faWQiOjQ4LCJuYW1lIjoiRGllIG5ldWVua2xhbmRlbiBncmVpZiwiLCJ5ZWFyX3JlbGVhc2VkIjoxOTk3fSx7ImFsYnVtX2lkIjo0OSwibmFtZSI6IkxlYmVuIHdpZSBDYXJ0YWcgVmFsbGV5In1dfQ==</td><td>{\"artist_id\":24,\"name\":\"Bill Kauler immuret\",\"albums\":[{\"album_id\":48,\"name\":\"Die neuenklanden greif,\",\"year_released\":1997},{\"album_id\":49,\"name\":\"Leben wie Cartag Valley\"}]}</td><td>List(24, Bill Kauler immuret, List(List(48, Die neuenklanden greif,, 1997), List(49, Leben wie Cartag Valley, null)))</td></tr><tr><td>18a0c1eb-7c8c-4185-9156-c03f7b9e1a32</td><td>0</td><td>artists.registraions</td><td>eyJhcnRpc3RfaWQiOjI1LCJuYW1lIjoiRXJpYyBCdXJkb24iLCJhbGJ1bXMiOlt7ImFsYnVtX2lkIjo1MCwibmFtZSI6Ik1lZG1vcmFkaWVyIiwieWVhcl9yZWxlYXNlZCI6MTk5NX0seyJhbGJ1bV9pZCI6NTEsIm5hbWUiOiJMZXRoYWxiYSIsInllYXJfcmVsZWFzZWQiOjIwMDJ9XX0=</td><td>{\"artist_id\":25,\"name\":\"Eric Burdon\",\"albums\":[{\"album_id\":50,\"name\":\"Medmoradier\",\"year_released\":1995},{\"album_id\":51,\"name\":\"Lethalba\",\"year_released\":2002}]}</td><td>List(25, Eric Burdon, List(List(50, Medmoradier, 1995), List(51, Lethalba, 2002)))</td></tr><tr><td>19a0c1eb-7c8c-4185-9156-c03f7b9e1a33</td><td>0</td><td>artists.registraions</td><td>eyJhcnRpc3RfaWQiOjI2LCJuYW1lIjoiVGhlIFByb2dyZXNzIiwiYWxidW1zIjpbeyJhbGJ1bV9pZCI6NTIsIm5hbWUiOiJEaWUgVmVyd2FuZGx1bmciLCJ5ZWFyX3JlbGVhc2VkIjoxOTE1fSx7ImFsYnVtX2lkIjo1MywibmFtZSI6IkRlciBQcm96ZXNzIiwieWVhcl9yZWxlYXNlZCI6MTkyNX1dfQ==</td><td>{\"artist_id\":26,\"name\":\"The Progress\",\"albums\":[{\"album_id\":52,\"name\":\"Die Verwandlung\",\"year_released\":1915},{\"album_id\":53,\"name\":\"Der Prozess\",\"year_released\":1925}]}</td><td>List(26, The Progress, List(List(52, Die Verwandlung, 1915), List(53, Der Prozess, 1925)))</td></tr><tr><td>df89d348-83ea-4ec0-9cc6-23ae86035a11</td><td>0</td><td>artists.registraions</td><td>eyJhcnRpc3RfaWQiOjE1LCJuYW1lIjoiVWRvIExpbmRlbmJlcmciLCJhbGJ1bXMiOlt7ImFsYnVtX2lkIjozMCwibmFtZSI6IlN0YXJrIHdpZSB6d2VpIiwieWVhcl9yZWxlYXNlZCI6MjAwOH0seyJhbGJ1bV9pZCI6MzEsIm5hbWUiOiJNVFYgVW5wbHVnZ2VkOiBMaXZlIGF1cyBkZW0gSG90ZWwgQXRsYW50aWMiLCJ5ZWFyX3JlbGVhc2VkIjoxMDExfV19</td><td>{\"artist_id\":15,\"name\":\"Udo Lindenberg\",\"albums\":[{\"album_id\":30,\"name\":\"Stark wie zwei\",\"year_released\":2008},{\"album_id\":31,\"name\":\"MTV Unplugged: Live aus dem Hotel Atlantic\",\"year_released\":1011}]}</td><td>List(15, Udo Lindenberg, List(List(30, Stark wie zwei, 2008), List(31, MTV Unplugged: Live aus dem Hotel Atlantic, 1011)))</td></tr><tr><td>e0ab4d19-4955-4a70-b839-712ab28da378</td><td>0</td><td>artists.registraions</td><td>eyJhcnRpc3RfaWQiOjE2LCJuYW1lIjoiWGF2aWVyIE5haWRvbyIsImFsYnVtcyI6W3siYWxidW1faWQiOjMyLCJuYW1lIjoiTmljaHQgdm9uIGRpZXNlciBXZWx0IiwieWVhcl9yZWxlYXNlZCI6MTk5OH0seyJhbGJ1bV9pZCI6MzMsIm5hbWUiOiJUZWxlZ3JhbW0gZsO8ciBYIiwieWVhcl9yZWxlYXNlZCI6MjAwNX1dfQ==</td><td>{\"artist_id\":16,\"name\":\"Xavier Naidoo\",\"albums\":[{\"album_id\":32,\"name\":\"Nicht von dieser Welt\",\"year_released\":1998},{\"album_id\":33,\"name\":\"Telegramm für X\",\"year_released\":2005}]}</td><td>List(16, Xavier Naidoo, List(List(32, Nicht von dieser Welt, 1998), List(33, Telegramm für X, 2005)))</td></tr><tr><td>c3b0dd26-40c0-4d95-a555-0e02797a1fd5</td><td>0</td><td>artists.registraions</td><td>eyJhcnRpc3RfaWQiOjE5LCJuYW1lIjoiU3BvcnRmcmV1bmRlIFN0aWxsZXIiLCJhbGJ1bXMiOlt7ImFsYnVtX2lkIjozOCwibmFtZSI6IkxhIEJ1bSIsInllYXJfcmVsZWFzZWQiOjIwMDd9LHsiYWxidW1faWQiOjM5LCJuYW1lIjoiTmV3IFlvcmsgLCBSaW8sIFJvc2VuaGVpbSwifX19</td><td>{\"artist_id\":19,\"name\":\"Sportfreunde Stiller\",\"albums\":[{\"album_id\":38,\"name\":\"La Bum\",\"year_released\":2007},{\"album_id\":39,\"name\":\"New York , Rio, Rosenheim,\"}}}</td><td>List(null, null, null)</td></tr><tr><td>5b7a0be7-3820-4706-88d5-d2828b8b5e2e</td><td>0</td><td>artists.registraions</td><td>eyJhcnRpc3RfaWQiOjIwLCJuYW1lIjoiSmFuIERlbGF5IiwiYWxidW1zIjpbeyJhbGJ1bV9pZCI6NDAiLCJuYW1lIjoiTWVyY2VkZXMgRGFuY2UiLCJ5ZWFyX3JlbGVhc2VkIjoxOTk2fSx7ImFsYnVtX2lkIjo0MSwibmFtZSI6IkhhbW1lciAmIE1pY2hlbCIsInllYXJfcmVsZWFzZWQiOjIwMTR9XX0=</td><td>{\"artist_id\":20,\"name\":\"Jan Delay\",\"albums\":[{\"album_id\":40\",\"name\":\"Mercedes Dance\",\"year_released\":1996},{\"album_id\":41,\"name\":\"Hammer & Michel\",\"year_released\":2014}]}</td><td>List(20, Mercedes Dance, null)</td></tr><tr><td>f13e891a-75c8-4e0d-9825-31fdd176e1c3</td><td>0</td><td>artists.registraions</td><td>eyJhcnRpc3RfaWQiOjE3LCJuYW1lIjoiRmV0dGVzIEJyb3QiLCJhbGJ1bXMiOlt7ImFsYnVtX2lkIjozNCwibmFtZSI6IkF1ZiBlbmVtIEF1Z2UgYmxvZCIsInllYXJfcmVsZWFzZWQiOjIwMDF9LHsiYWxidW1faWQiOjM1LCJuYW1lIjoiMyBpdHMgbmUgUGFydHkiLCJ5ZWFyX3JlbGVhc2VkIjoxOTYzfV19</td><td>{\"artist_id\":17,\"name\":\"Fettes Brot\",\"albums\":[{\"album_id\":34,\"name\":\"Auf enem Auge blod\",\"year_released\":2001},{\"album_id\":35,\"name\":\"3 its ne Party\",\"year_released\":1963}]}</td><td>List(17, Fettes Brot, List(List(34, Auf enem Auge blod, 2001), List(35, 3 its ne Party, 1963)))</td></tr><tr><td>f271cbae-ef24-4b21-a7e5-70498c54a7e3</td><td>0</td><td>artists.registraions</td><td>eyJhcnRpc3RfaWQiOjE4LCJuYW1lIjoiU2VlZWQiLCJhbGJ1bXMiOlt7ImFsYnVtX2lkIjozNiwibmFtZSI6Ik5leHQhIiwieWVhcl9yZWxlYXNlZCI6MjAwNX0seyJhbGJ1bV9pZCI6MzcsIm5hbWUiOiJCQU0gQkFNIn0seyJ5ZWFyX3JlbGVhc2VkIjoxOX1dfQ==</td><td>{\"artist_id\":18,\"name\":\"Seeed\",\"albums\":[{\"album_id\":36,\"name\":\"Next!\",\"year_released\":2005},{\"album_id\":37,\"name\":\"BAM BAM\"},{\"year_released\":19}]}</td><td>List(18, Seeed, List(List(36, Next!, 2005), List(37, BAM BAM, null), List(null, null, 19)))</td></tr><tr><td>13b2e18c-d93c-47c2-a5c7-aba3a42b1a47</td><td>0</td><td>artists.registraions</td><td>eyJhcnRpc3RfaWQiOjMsIm5hbWUiOiJSYW1tc3RlaW4iLCJhbGJ1bXMiOlt7ImFsYnVtX2lkIjo0LCJuYW1lIjoiU2VobnN1Y2h0IiwieWVhcl9yZWxlYXNlZCI6MTk5N30seyJhbGJ1bV9pZCI6NSwibmFtZSI6Ik11dHRlciIsInllYXJfcmVsZWFzZWQiOjIwMDF9XX0=</td><td>{\"artist_id\":3,\"name\":\"Rammstein\",\"albums\":[{\"album_id\":4,\"name\":\"Sehnsucht\",\"year_released\":1997},{\"album_id\":5,\"name\":\"Mutter\",\"year_released\":2001}]}</td><td>List(3, Rammstein, List(List(4, Sehnsucht, 1997), List(5, Mutter, 2001)))</td></tr><tr><td>24ab5f80-4b89-4bb2-b920-37fc0873a9a8</td><td>0</td><td>artists.registraions</td><td>eyJhcnRpc3RfaWQiOjQsIm5hbWUiOiJTY29ycGlvbnMiLCJhbGJ1bXMiOlt7ImFsYnVtX2lkIjo2LCJuYW1lIjoiTG92ZSBhdCBGaXJzdCBTdGluZyIsInllYXJfcmVsZWFzZWQiOjE5ODR9LHsiYWxidW1faWQiOjc5LCJuYW1lIjoiQ3JhenkgV29ybGQiLCJ5ZWFyX3JlbGVhc2VkIjoxOTkwfV19</td><td>{\"artist_id\":4,\"name\":\"Scorpions\",\"albums\":[{\"album_id\":6,\"name\":\"Love at First Sting\",\"year_released\":1984},{\"album_id\":79,\"name\":\"Crazy World\",\"year_released\":1990}]}</td><td>List(4, Scorpions, List(List(6, Love at First Sting, 1984), List(79, Crazy World, 1990)))</td></tr><tr><td>3e8c0737-eef6-48d8-9407-6bcda80cb85d</td><td>0</td><td>artists.registraions</td><td>eyJhcnRpc3RfaWQiOjUsIm5hbWUiOiJLcmFmdHdvcmsiLCJhbGJ1bXMiOlt7ImFsYnVtX2lkIjo4LCJuYW1lIjoiQXV0b2JhaG4iLCJ5ZWFyX3JlbGVhc2VkIjoxOTc0fSx7ImFsYnVtX2lkIjoxMiwibmFtZSI6IlRoZSBNYW4tTWFjaGluZSIsInllYXJfcmVsZWFzZWQiOjE5Nzh9XX0=</td><td>{\"artist_id\":5,\"name\":\"Kraftwork\",\"albums\":[{\"album_id\":8,\"name\":\"Autobahn\",\"year_released\":1974},{\"album_id\":12,\"name\":\"The Man-Machine\",\"year_released\":1978}]}</td><td>List(5, Kraftwork, List(List(8, Autobahn, 1974), List(12, The Man-Machine, 1978)))</td></tr><tr><td>46a9a7a1-8f74-4f63-b497-63571f1b1f1e</td><td>0</td><td>artists.registraions</td><td>eyJhcnRpc3RfaWQiOjYsIm5hbWUiOiJOZW5hIiwiYWxidW1zIjpbeyJhbGJ1bV9pZCI6MTMsIm5hbWUiOiI5OSBMdWZ0YmFsbG9ucyIsInllYXJfcmVsZWFzZWQiOjE5ODR9LHsiYWxidW1faWQiOjE0LCJuYW1lIjoiTmVuYSIsInllYXJfcmVsZWFzZWQiOjE5ODN9XX0=</td><td>{\"artist_id\":6,\"name\":\"Nena\",\"albums\":[{\"album_id\":13,\"name\":\"99 Luftballons\",\"year_released\":1984},{\"album_id\":14,\"name\":\"Nena\",\"year_released\":1983}]}</td><td>List(6, Nena, List(List(13, 99 Luftballons, 1984), List(14, Nena, 1983)))</td></tr><tr><td>0b7d6cb8-cf95-4c4a-b988-33c83647e6e8</td><td>0</td><td>artists.registraions</td><td>eyJhcnRpc3RfaWQiOjIxLCJuYW1lIjoiQnVzaGlkbyIsImFsYnVtcyI6W3siYWxidW1faWQiOjQyLCJuYW1lIjoiNyIsInllYXJfcmVsZWFzZWQiOjIwMDd9LHsiYWxidW1faWQiOjQzLCJuYW1lIjoiSGVhdnlcbWV0YWwgUGF5YmFjayIsInllYXJfcmVsZWFzZWQiOjIwMTh9XX0=</td><td>{\"artist_id\":21,\"name\":\"Bushido\",\"albums\":[{\"album_id\":42,\"name\":\"7\",\"year_released\":2007},{\"album_id\":43,\"name\":\"Heavy\\metal Payback\",\"year_released\":2018}]}</td><td>List(null, null, null)</td></tr><tr><td>15a0c1eb-7c8c-4185-9156-c03f7b9e1a29</td><td>0</td><td>artists.registraions</td><td>eyJhcnRpc3RfaWQiOjIyLCJuYW1lIjoiU2lkbyIsImFsYnVtcyI6W3siYWxidW1faWQiOjQ0LCJuYW1lIjoiSWNoIHVuZCBtZWluZSBNYXNrZSIsInllYXJfcmVsZWFzZWQiOjIwMDh9LHsiYWxidW1faWQiOjQ1LCJuYW1lIjoiVkkifV19</td><td>{\"artist_id\":22,\"name\":\"Sido\",\"albums\":[{\"album_id\":44,\"name\":\"Ich und meine Maske\",\"year_released\":2008},{\"album_id\":45,\"name\":\"VI\"}]}</td><td>List(22, Sido, List(List(44, Ich und meine Maske, 2008), List(45, VI, null)))</td></tr><tr><td>bb6c0978-f322-4b4b-9948-8287e0db912a</td><td>0</td><td>artists.registraions</td><td>eyJhcnRpc3RfaWQiOiAxLCAibmFtZSI6ICJKb2huIERvZSIsICJhbGJ1bXMiOiBbeyJhbGJ1bV9pZCI6IDEsICJuYW1lIjogIkFsYnVtIDEiLCAieWVhcl9yZWxlYXNlZCI6IDIwMjB9LCB7ImFsYnVtX2lkIjogMiwgIm5hbWUiOiAiQWxidW0gMiIsICJ5ZWFyX3JlbGVhc2VkIjogMjAyMX1dfQ==</td><td>{\"artist_id\": 1, \"name\": \"John Doe\", \"albums\": [{\"album_id\": 1, \"name\": \"Album 1\", \"year_released\": 2020}, {\"album_id\": 2, \"name\": \"Album 2\", \"year_released\": 2021}]}</td><td>List(1, John Doe, List(List(1, Album 1, 2020), List(2, Album 2, 2021)))</td></tr><tr><td>f13b1e46-91ef-4929-861e-7bd0d2d43c3f</td><td>0</td><td>artists.registraions</td><td>eyJhcnRpc3RfaWQiOiAyLCAibmFtZSI6ICJKYW5lIFNtaXRoIiwgImFsYnVtcyI6IFt7ImFsYnVtX2lkIjogMywgIm5hbWUiOiAiQWxidW0gMyIsICJ5ZWFyX3JlbGVhc2VkIjogMjAyMn1dfQ==</td><td>{\"artist_id\": 2, \"name\": \"Jane Smith\", \"albums\": [{\"album_id\": 3, \"name\": \"Album 3\", \"year_released\": 2022}]}</td><td>List(2, Jane Smith, List(List(3, Album 3, 2022)))</td></tr></tbody></table></div>"
      ]
     },
     "metadata": {
      "application/vnd.databricks.v1+output": {
       "addedWidgets": {},
       "aggData": [],
       "aggError": "",
       "aggOverflow": false,
       "aggSchema": [],
       "aggSeriesLimitReached": false,
       "aggType": "",
       "arguments": {},
       "columnCustomDisplayInfos": {},
       "data": [
        [
         "16a0c1eb-7c8c-4185-9156-c03f7b9e1a30",
         0,
         "artists.registraions",
         "eyJhcnRpc3RfaWQiOjIzLCJuYW1lIjoiUmFtIFVuemVyIiwiYWxidW1zIjpbeyJhbGJ1bV9pZCI6NDYsIm5hbWUiOiJHb3R0IHZlciBkaWUgRnJlaGVpdCIsInllYXJfcmVsZWFzZWQiOjIwMDJ9LHsiYWxidW1faWQiOjQ3LCJuYW1lIjoiU29ubmUgVGVjbm8iLCJ5ZWFyX3JlbGVhc2VkIjoxOTk0fV19",
         "{\"artist_id\":23,\"name\":\"Ram Unzer\",\"albums\":[{\"album_id\":46,\"name\":\"Gott ver die Freheit\",\"year_released\":2002},{\"album_id\":47,\"name\":\"Sonne Tecno\",\"year_released\":1994}]}",
         [
          23,
          "Ram Unzer",
          [
           [
            46,
            "Gott ver die Freheit",
            2002
           ],
           [
            47,
            "Sonne Tecno",
            1994
           ]
          ]
         ]
        ],
        [
         "17a0c1eb-7c8c-4185-9156-c03f7b9e1a31",
         0,
         "artists.registraions",
         "eyJhcnRpc3RfaWQiOjI0LCJuYW1lIjoiQmlsbCBLYXVsZXIgaW1tdXJldCIsImFsYnVtcyI6W3siYWxidW1faWQiOjQ4LCJuYW1lIjoiRGllIG5ldWVua2xhbmRlbiBncmVpZiwiLCJ5ZWFyX3JlbGVhc2VkIjoxOTk3fSx7ImFsYnVtX2lkIjo0OSwibmFtZSI6IkxlYmVuIHdpZSBDYXJ0YWcgVmFsbGV5In1dfQ==",
         "{\"artist_id\":24,\"name\":\"Bill Kauler immuret\",\"albums\":[{\"album_id\":48,\"name\":\"Die neuenklanden greif,\",\"year_released\":1997},{\"album_id\":49,\"name\":\"Leben wie Cartag Valley\"}]}",
         [
          24,
          "Bill Kauler immuret",
          [
           [
            48,
            "Die neuenklanden greif,",
            1997
           ],
           [
            49,
            "Leben wie Cartag Valley",
            null
           ]
          ]
         ]
        ],
        [
         "18a0c1eb-7c8c-4185-9156-c03f7b9e1a32",
         0,
         "artists.registraions",
         "eyJhcnRpc3RfaWQiOjI1LCJuYW1lIjoiRXJpYyBCdXJkb24iLCJhbGJ1bXMiOlt7ImFsYnVtX2lkIjo1MCwibmFtZSI6Ik1lZG1vcmFkaWVyIiwieWVhcl9yZWxlYXNlZCI6MTk5NX0seyJhbGJ1bV9pZCI6NTEsIm5hbWUiOiJMZXRoYWxiYSIsInllYXJfcmVsZWFzZWQiOjIwMDJ9XX0=",
         "{\"artist_id\":25,\"name\":\"Eric Burdon\",\"albums\":[{\"album_id\":50,\"name\":\"Medmoradier\",\"year_released\":1995},{\"album_id\":51,\"name\":\"Lethalba\",\"year_released\":2002}]}",
         [
          25,
          "Eric Burdon",
          [
           [
            50,
            "Medmoradier",
            1995
           ],
           [
            51,
            "Lethalba",
            2002
           ]
          ]
         ]
        ],
        [
         "19a0c1eb-7c8c-4185-9156-c03f7b9e1a33",
         0,
         "artists.registraions",
         "eyJhcnRpc3RfaWQiOjI2LCJuYW1lIjoiVGhlIFByb2dyZXNzIiwiYWxidW1zIjpbeyJhbGJ1bV9pZCI6NTIsIm5hbWUiOiJEaWUgVmVyd2FuZGx1bmciLCJ5ZWFyX3JlbGVhc2VkIjoxOTE1fSx7ImFsYnVtX2lkIjo1MywibmFtZSI6IkRlciBQcm96ZXNzIiwieWVhcl9yZWxlYXNlZCI6MTkyNX1dfQ==",
         "{\"artist_id\":26,\"name\":\"The Progress\",\"albums\":[{\"album_id\":52,\"name\":\"Die Verwandlung\",\"year_released\":1915},{\"album_id\":53,\"name\":\"Der Prozess\",\"year_released\":1925}]}",
         [
          26,
          "The Progress",
          [
           [
            52,
            "Die Verwandlung",
            1915
           ],
           [
            53,
            "Der Prozess",
            1925
           ]
          ]
         ]
        ],
        [
         "df89d348-83ea-4ec0-9cc6-23ae86035a11",
         0,
         "artists.registraions",
         "eyJhcnRpc3RfaWQiOjE1LCJuYW1lIjoiVWRvIExpbmRlbmJlcmciLCJhbGJ1bXMiOlt7ImFsYnVtX2lkIjozMCwibmFtZSI6IlN0YXJrIHdpZSB6d2VpIiwieWVhcl9yZWxlYXNlZCI6MjAwOH0seyJhbGJ1bV9pZCI6MzEsIm5hbWUiOiJNVFYgVW5wbHVnZ2VkOiBMaXZlIGF1cyBkZW0gSG90ZWwgQXRsYW50aWMiLCJ5ZWFyX3JlbGVhc2VkIjoxMDExfV19",
         "{\"artist_id\":15,\"name\":\"Udo Lindenberg\",\"albums\":[{\"album_id\":30,\"name\":\"Stark wie zwei\",\"year_released\":2008},{\"album_id\":31,\"name\":\"MTV Unplugged: Live aus dem Hotel Atlantic\",\"year_released\":1011}]}",
         [
          15,
          "Udo Lindenberg",
          [
           [
            30,
            "Stark wie zwei",
            2008
           ],
           [
            31,
            "MTV Unplugged: Live aus dem Hotel Atlantic",
            1011
           ]
          ]
         ]
        ],
        [
         "e0ab4d19-4955-4a70-b839-712ab28da378",
         0,
         "artists.registraions",
         "eyJhcnRpc3RfaWQiOjE2LCJuYW1lIjoiWGF2aWVyIE5haWRvbyIsImFsYnVtcyI6W3siYWxidW1faWQiOjMyLCJuYW1lIjoiTmljaHQgdm9uIGRpZXNlciBXZWx0IiwieWVhcl9yZWxlYXNlZCI6MTk5OH0seyJhbGJ1bV9pZCI6MzMsIm5hbWUiOiJUZWxlZ3JhbW0gZsO8ciBYIiwieWVhcl9yZWxlYXNlZCI6MjAwNX1dfQ==",
         "{\"artist_id\":16,\"name\":\"Xavier Naidoo\",\"albums\":[{\"album_id\":32,\"name\":\"Nicht von dieser Welt\",\"year_released\":1998},{\"album_id\":33,\"name\":\"Telegramm für X\",\"year_released\":2005}]}",
         [
          16,
          "Xavier Naidoo",
          [
           [
            32,
            "Nicht von dieser Welt",
            1998
           ],
           [
            33,
            "Telegramm für X",
            2005
           ]
          ]
         ]
        ],
        [
         "c3b0dd26-40c0-4d95-a555-0e02797a1fd5",
         0,
         "artists.registraions",
         "eyJhcnRpc3RfaWQiOjE5LCJuYW1lIjoiU3BvcnRmcmV1bmRlIFN0aWxsZXIiLCJhbGJ1bXMiOlt7ImFsYnVtX2lkIjozOCwibmFtZSI6IkxhIEJ1bSIsInllYXJfcmVsZWFzZWQiOjIwMDd9LHsiYWxidW1faWQiOjM5LCJuYW1lIjoiTmV3IFlvcmsgLCBSaW8sIFJvc2VuaGVpbSwifX19",
         "{\"artist_id\":19,\"name\":\"Sportfreunde Stiller\",\"albums\":[{\"album_id\":38,\"name\":\"La Bum\",\"year_released\":2007},{\"album_id\":39,\"name\":\"New York , Rio, Rosenheim,\"}}}",
         [
          null,
          null,
          null
         ]
        ],
        [
         "5b7a0be7-3820-4706-88d5-d2828b8b5e2e",
         0,
         "artists.registraions",
         "eyJhcnRpc3RfaWQiOjIwLCJuYW1lIjoiSmFuIERlbGF5IiwiYWxidW1zIjpbeyJhbGJ1bV9pZCI6NDAiLCJuYW1lIjoiTWVyY2VkZXMgRGFuY2UiLCJ5ZWFyX3JlbGVhc2VkIjoxOTk2fSx7ImFsYnVtX2lkIjo0MSwibmFtZSI6IkhhbW1lciAmIE1pY2hlbCIsInllYXJfcmVsZWFzZWQiOjIwMTR9XX0=",
         "{\"artist_id\":20,\"name\":\"Jan Delay\",\"albums\":[{\"album_id\":40\",\"name\":\"Mercedes Dance\",\"year_released\":1996},{\"album_id\":41,\"name\":\"Hammer & Michel\",\"year_released\":2014}]}",
         [
          20,
          "Mercedes Dance",
          null
         ]
        ],
        [
         "f13e891a-75c8-4e0d-9825-31fdd176e1c3",
         0,
         "artists.registraions",
         "eyJhcnRpc3RfaWQiOjE3LCJuYW1lIjoiRmV0dGVzIEJyb3QiLCJhbGJ1bXMiOlt7ImFsYnVtX2lkIjozNCwibmFtZSI6IkF1ZiBlbmVtIEF1Z2UgYmxvZCIsInllYXJfcmVsZWFzZWQiOjIwMDF9LHsiYWxidW1faWQiOjM1LCJuYW1lIjoiMyBpdHMgbmUgUGFydHkiLCJ5ZWFyX3JlbGVhc2VkIjoxOTYzfV19",
         "{\"artist_id\":17,\"name\":\"Fettes Brot\",\"albums\":[{\"album_id\":34,\"name\":\"Auf enem Auge blod\",\"year_released\":2001},{\"album_id\":35,\"name\":\"3 its ne Party\",\"year_released\":1963}]}",
         [
          17,
          "Fettes Brot",
          [
           [
            34,
            "Auf enem Auge blod",
            2001
           ],
           [
            35,
            "3 its ne Party",
            1963
           ]
          ]
         ]
        ],
        [
         "f271cbae-ef24-4b21-a7e5-70498c54a7e3",
         0,
         "artists.registraions",
         "eyJhcnRpc3RfaWQiOjE4LCJuYW1lIjoiU2VlZWQiLCJhbGJ1bXMiOlt7ImFsYnVtX2lkIjozNiwibmFtZSI6Ik5leHQhIiwieWVhcl9yZWxlYXNlZCI6MjAwNX0seyJhbGJ1bV9pZCI6MzcsIm5hbWUiOiJCQU0gQkFNIn0seyJ5ZWFyX3JlbGVhc2VkIjoxOX1dfQ==",
         "{\"artist_id\":18,\"name\":\"Seeed\",\"albums\":[{\"album_id\":36,\"name\":\"Next!\",\"year_released\":2005},{\"album_id\":37,\"name\":\"BAM BAM\"},{\"year_released\":19}]}",
         [
          18,
          "Seeed",
          [
           [
            36,
            "Next!",
            2005
           ],
           [
            37,
            "BAM BAM",
            null
           ],
           [
            null,
            null,
            19
           ]
          ]
         ]
        ],
        [
         "13b2e18c-d93c-47c2-a5c7-aba3a42b1a47",
         0,
         "artists.registraions",
         "eyJhcnRpc3RfaWQiOjMsIm5hbWUiOiJSYW1tc3RlaW4iLCJhbGJ1bXMiOlt7ImFsYnVtX2lkIjo0LCJuYW1lIjoiU2VobnN1Y2h0IiwieWVhcl9yZWxlYXNlZCI6MTk5N30seyJhbGJ1bV9pZCI6NSwibmFtZSI6Ik11dHRlciIsInllYXJfcmVsZWFzZWQiOjIwMDF9XX0=",
         "{\"artist_id\":3,\"name\":\"Rammstein\",\"albums\":[{\"album_id\":4,\"name\":\"Sehnsucht\",\"year_released\":1997},{\"album_id\":5,\"name\":\"Mutter\",\"year_released\":2001}]}",
         [
          3,
          "Rammstein",
          [
           [
            4,
            "Sehnsucht",
            1997
           ],
           [
            5,
            "Mutter",
            2001
           ]
          ]
         ]
        ],
        [
         "24ab5f80-4b89-4bb2-b920-37fc0873a9a8",
         0,
         "artists.registraions",
         "eyJhcnRpc3RfaWQiOjQsIm5hbWUiOiJTY29ycGlvbnMiLCJhbGJ1bXMiOlt7ImFsYnVtX2lkIjo2LCJuYW1lIjoiTG92ZSBhdCBGaXJzdCBTdGluZyIsInllYXJfcmVsZWFzZWQiOjE5ODR9LHsiYWxidW1faWQiOjc5LCJuYW1lIjoiQ3JhenkgV29ybGQiLCJ5ZWFyX3JlbGVhc2VkIjoxOTkwfV19",
         "{\"artist_id\":4,\"name\":\"Scorpions\",\"albums\":[{\"album_id\":6,\"name\":\"Love at First Sting\",\"year_released\":1984},{\"album_id\":79,\"name\":\"Crazy World\",\"year_released\":1990}]}",
         [
          4,
          "Scorpions",
          [
           [
            6,
            "Love at First Sting",
            1984
           ],
           [
            79,
            "Crazy World",
            1990
           ]
          ]
         ]
        ],
        [
         "3e8c0737-eef6-48d8-9407-6bcda80cb85d",
         0,
         "artists.registraions",
         "eyJhcnRpc3RfaWQiOjUsIm5hbWUiOiJLcmFmdHdvcmsiLCJhbGJ1bXMiOlt7ImFsYnVtX2lkIjo4LCJuYW1lIjoiQXV0b2JhaG4iLCJ5ZWFyX3JlbGVhc2VkIjoxOTc0fSx7ImFsYnVtX2lkIjoxMiwibmFtZSI6IlRoZSBNYW4tTWFjaGluZSIsInllYXJfcmVsZWFzZWQiOjE5Nzh9XX0=",
         "{\"artist_id\":5,\"name\":\"Kraftwork\",\"albums\":[{\"album_id\":8,\"name\":\"Autobahn\",\"year_released\":1974},{\"album_id\":12,\"name\":\"The Man-Machine\",\"year_released\":1978}]}",
         [
          5,
          "Kraftwork",
          [
           [
            8,
            "Autobahn",
            1974
           ],
           [
            12,
            "The Man-Machine",
            1978
           ]
          ]
         ]
        ],
        [
         "46a9a7a1-8f74-4f63-b497-63571f1b1f1e",
         0,
         "artists.registraions",
         "eyJhcnRpc3RfaWQiOjYsIm5hbWUiOiJOZW5hIiwiYWxidW1zIjpbeyJhbGJ1bV9pZCI6MTMsIm5hbWUiOiI5OSBMdWZ0YmFsbG9ucyIsInllYXJfcmVsZWFzZWQiOjE5ODR9LHsiYWxidW1faWQiOjE0LCJuYW1lIjoiTmVuYSIsInllYXJfcmVsZWFzZWQiOjE5ODN9XX0=",
         "{\"artist_id\":6,\"name\":\"Nena\",\"albums\":[{\"album_id\":13,\"name\":\"99 Luftballons\",\"year_released\":1984},{\"album_id\":14,\"name\":\"Nena\",\"year_released\":1983}]}",
         [
          6,
          "Nena",
          [
           [
            13,
            "99 Luftballons",
            1984
           ],
           [
            14,
            "Nena",
            1983
           ]
          ]
         ]
        ],
        [
         "0b7d6cb8-cf95-4c4a-b988-33c83647e6e8",
         0,
         "artists.registraions",
         "eyJhcnRpc3RfaWQiOjIxLCJuYW1lIjoiQnVzaGlkbyIsImFsYnVtcyI6W3siYWxidW1faWQiOjQyLCJuYW1lIjoiNyIsInllYXJfcmVsZWFzZWQiOjIwMDd9LHsiYWxidW1faWQiOjQzLCJuYW1lIjoiSGVhdnlcbWV0YWwgUGF5YmFjayIsInllYXJfcmVsZWFzZWQiOjIwMTh9XX0=",
         "{\"artist_id\":21,\"name\":\"Bushido\",\"albums\":[{\"album_id\":42,\"name\":\"7\",\"year_released\":2007},{\"album_id\":43,\"name\":\"Heavy\\metal Payback\",\"year_released\":2018}]}",
         [
          null,
          null,
          null
         ]
        ],
        [
         "15a0c1eb-7c8c-4185-9156-c03f7b9e1a29",
         0,
         "artists.registraions",
         "eyJhcnRpc3RfaWQiOjIyLCJuYW1lIjoiU2lkbyIsImFsYnVtcyI6W3siYWxidW1faWQiOjQ0LCJuYW1lIjoiSWNoIHVuZCBtZWluZSBNYXNrZSIsInllYXJfcmVsZWFzZWQiOjIwMDh9LHsiYWxidW1faWQiOjQ1LCJuYW1lIjoiVkkifV19",
         "{\"artist_id\":22,\"name\":\"Sido\",\"albums\":[{\"album_id\":44,\"name\":\"Ich und meine Maske\",\"year_released\":2008},{\"album_id\":45,\"name\":\"VI\"}]}",
         [
          22,
          "Sido",
          [
           [
            44,
            "Ich und meine Maske",
            2008
           ],
           [
            45,
            "VI",
            null
           ]
          ]
         ]
        ],
        [
         "bb6c0978-f322-4b4b-9948-8287e0db912a",
         0,
         "artists.registraions",
         "eyJhcnRpc3RfaWQiOiAxLCAibmFtZSI6ICJKb2huIERvZSIsICJhbGJ1bXMiOiBbeyJhbGJ1bV9pZCI6IDEsICJuYW1lIjogIkFsYnVtIDEiLCAieWVhcl9yZWxlYXNlZCI6IDIwMjB9LCB7ImFsYnVtX2lkIjogMiwgIm5hbWUiOiAiQWxidW0gMiIsICJ5ZWFyX3JlbGVhc2VkIjogMjAyMX1dfQ==",
         "{\"artist_id\": 1, \"name\": \"John Doe\", \"albums\": [{\"album_id\": 1, \"name\": \"Album 1\", \"year_released\": 2020}, {\"album_id\": 2, \"name\": \"Album 2\", \"year_released\": 2021}]}",
         [
          1,
          "John Doe",
          [
           [
            1,
            "Album 1",
            2020
           ],
           [
            2,
            "Album 2",
            2021
           ]
          ]
         ]
        ],
        [
         "f13b1e46-91ef-4929-861e-7bd0d2d43c3f",
         0,
         "artists.registraions",
         "eyJhcnRpc3RfaWQiOiAyLCAibmFtZSI6ICJKYW5lIFNtaXRoIiwgImFsYnVtcyI6IFt7ImFsYnVtX2lkIjogMywgIm5hbWUiOiAiQWxidW0gMyIsICJ5ZWFyX3JlbGVhc2VkIjogMjAyMn1dfQ==",
         "{\"artist_id\": 2, \"name\": \"Jane Smith\", \"albums\": [{\"album_id\": 3, \"name\": \"Album 3\", \"year_released\": 2022}]}",
         [
          2,
          "Jane Smith",
          [
           [
            3,
            "Album 3",
            2022
           ]
          ]
         ]
        ]
       ],
       "datasetInfos": [],
       "dbfsResultPath": null,
       "isJsonSchema": true,
       "metadata": {},
       "overflow": false,
       "plotOptions": {
        "customPlotOptions": {},
        "displayType": "table",
        "pivotAggregation": null,
        "pivotColumns": null,
        "xColumns": null,
        "yColumns": null
       },
       "removedWidgets": [],
       "schema": [
        {
         "metadata": "{}",
         "name": "key",
         "type": "\"string\""
        },
        {
         "metadata": "{}",
         "name": "partition",
         "type": "\"long\""
        },
        {
         "metadata": "{}",
         "name": "topic",
         "type": "\"string\""
        },
        {
         "metadata": "{}",
         "name": "value",
         "type": "\"string\""
        },
        {
         "metadata": "{}",
         "name": "unencoded_base64",
         "type": "\"string\""
        },
        {
         "metadata": "{}",
         "name": "parsed_json",
         "type": "{\"type\":\"struct\",\"fields\":[{\"name\":\"artist_id\",\"type\":\"integer\",\"nullable\":true,\"metadata\":{}},{\"name\":\"name\",\"type\":\"string\",\"nullable\":true,\"metadata\":{}},{\"name\":\"albums\",\"type\":{\"type\":\"array\",\"elementType\":{\"type\":\"struct\",\"fields\":[{\"name\":\"album_id\",\"type\":\"integer\",\"nullable\":true,\"metadata\":{}},{\"name\":\"name\",\"type\":\"string\",\"nullable\":true,\"metadata\":{}},{\"name\":\"year_released\",\"type\":\"integer\",\"nullable\":true,\"metadata\":{}}]},\"containsNull\":true},\"nullable\":true,\"metadata\":{}}]}"
        }
       ],
       "type": "table"
      }
     },
     "output_type": "display_data"
    }
   ],
   "source": [
    "schema = StructType([\n",
    "    StructField(\"artist_id\", IntegerType(), True),\n",
    "    StructField(\"name\", StringType(), True),\n",
    "    StructField(\"albums\", ArrayType(StructType([\n",
    "        StructField(\"album_id\", IntegerType(), True),\n",
    "        StructField(\"name\", StringType(), True),\n",
    "        StructField(\"year_released\", IntegerType(), True)\n",
    "    ])), True)\n",
    "])\n",
    "parsed_df = df2.withColumn(\"parsed_json\", from_json(col(\"unencoded_base64\"), schema))\n",
    "\n",
    "display(parsed_df)"
   ]
  },
  {
   "cell_type": "code",
   "execution_count": null,
   "metadata": {
    "application/vnd.databricks.v1+cell": {
     "cellMetadata": {
      "byteLimit": 2048000,
      "rowLimit": 10000
     },
     "inputWidgets": {},
     "nuid": "ca9763ee-35fa-4826-aa56-996def7fdb63",
     "showTitle": false,
     "title": ""
    }
   },
   "outputs": [
    {
     "data": {
      "text/html": [
       "<style scoped>\n",
       "  .table-result-container {\n",
       "    max-height: 300px;\n",
       "    overflow: auto;\n",
       "  }\n",
       "  table, th, td {\n",
       "    border: 1px solid black;\n",
       "    border-collapse: collapse;\n",
       "  }\n",
       "  th, td {\n",
       "    padding: 5px;\n",
       "  }\n",
       "  th {\n",
       "    text-align: left;\n",
       "  }\n",
       "</style><div class='table-result-container'><table class='table-result'><thead style='background-color: white'><tr><th>artist_id</th><th>name</th><th>album_id</th><th>album_name</th><th>year_released</th></tr></thead><tbody><tr><td>23</td><td>Ram Unzer</td><td>46</td><td>Gott ver die Freheit</td><td>2002</td></tr><tr><td>23</td><td>Ram Unzer</td><td>47</td><td>Sonne Tecno</td><td>1994</td></tr><tr><td>24</td><td>Bill Kauler immuret</td><td>48</td><td>Die neuenklanden greif,</td><td>1997</td></tr><tr><td>24</td><td>Bill Kauler immuret</td><td>49</td><td>Leben wie Cartag Valley</td><td>null</td></tr><tr><td>25</td><td>Eric Burdon</td><td>50</td><td>Medmoradier</td><td>1995</td></tr><tr><td>25</td><td>Eric Burdon</td><td>51</td><td>Lethalba</td><td>2002</td></tr><tr><td>26</td><td>The Progress</td><td>52</td><td>Die Verwandlung</td><td>1915</td></tr><tr><td>26</td><td>The Progress</td><td>53</td><td>Der Prozess</td><td>1925</td></tr><tr><td>15</td><td>Udo Lindenberg</td><td>30</td><td>Stark wie zwei</td><td>2008</td></tr><tr><td>15</td><td>Udo Lindenberg</td><td>31</td><td>MTV Unplugged: Live aus dem Hotel Atlantic</td><td>1011</td></tr><tr><td>16</td><td>Xavier Naidoo</td><td>32</td><td>Nicht von dieser Welt</td><td>1998</td></tr><tr><td>16</td><td>Xavier Naidoo</td><td>33</td><td>Telegramm für X</td><td>2005</td></tr><tr><td>17</td><td>Fettes Brot</td><td>34</td><td>Auf enem Auge blod</td><td>2001</td></tr><tr><td>17</td><td>Fettes Brot</td><td>35</td><td>3 its ne Party</td><td>1963</td></tr><tr><td>18</td><td>Seeed</td><td>36</td><td>Next!</td><td>2005</td></tr><tr><td>18</td><td>Seeed</td><td>37</td><td>BAM BAM</td><td>null</td></tr><tr><td>18</td><td>Seeed</td><td>null</td><td>null</td><td>19</td></tr><tr><td>3</td><td>Rammstein</td><td>4</td><td>Sehnsucht</td><td>1997</td></tr><tr><td>3</td><td>Rammstein</td><td>5</td><td>Mutter</td><td>2001</td></tr><tr><td>4</td><td>Scorpions</td><td>6</td><td>Love at First Sting</td><td>1984</td></tr><tr><td>4</td><td>Scorpions</td><td>79</td><td>Crazy World</td><td>1990</td></tr><tr><td>5</td><td>Kraftwork</td><td>8</td><td>Autobahn</td><td>1974</td></tr><tr><td>5</td><td>Kraftwork</td><td>12</td><td>The Man-Machine</td><td>1978</td></tr><tr><td>6</td><td>Nena</td><td>13</td><td>99 Luftballons</td><td>1984</td></tr><tr><td>6</td><td>Nena</td><td>14</td><td>Nena</td><td>1983</td></tr><tr><td>22</td><td>Sido</td><td>44</td><td>Ich und meine Maske</td><td>2008</td></tr><tr><td>22</td><td>Sido</td><td>45</td><td>VI</td><td>null</td></tr><tr><td>1</td><td>John Doe</td><td>1</td><td>Album 1</td><td>2020</td></tr><tr><td>1</td><td>John Doe</td><td>2</td><td>Album 2</td><td>2021</td></tr><tr><td>2</td><td>Jane Smith</td><td>3</td><td>Album 3</td><td>2022</td></tr></tbody></table></div>"
      ]
     },
     "metadata": {
      "application/vnd.databricks.v1+output": {
       "addedWidgets": {},
       "aggData": [],
       "aggError": "",
       "aggOverflow": false,
       "aggSchema": [],
       "aggSeriesLimitReached": false,
       "aggType": "",
       "arguments": {},
       "columnCustomDisplayInfos": {},
       "data": [
        [
         23,
         "Ram Unzer",
         46,
         "Gott ver die Freheit",
         2002
        ],
        [
         23,
         "Ram Unzer",
         47,
         "Sonne Tecno",
         1994
        ],
        [
         24,
         "Bill Kauler immuret",
         48,
         "Die neuenklanden greif,",
         1997
        ],
        [
         24,
         "Bill Kauler immuret",
         49,
         "Leben wie Cartag Valley",
         null
        ],
        [
         25,
         "Eric Burdon",
         50,
         "Medmoradier",
         1995
        ],
        [
         25,
         "Eric Burdon",
         51,
         "Lethalba",
         2002
        ],
        [
         26,
         "The Progress",
         52,
         "Die Verwandlung",
         1915
        ],
        [
         26,
         "The Progress",
         53,
         "Der Prozess",
         1925
        ],
        [
         15,
         "Udo Lindenberg",
         30,
         "Stark wie zwei",
         2008
        ],
        [
         15,
         "Udo Lindenberg",
         31,
         "MTV Unplugged: Live aus dem Hotel Atlantic",
         1011
        ],
        [
         16,
         "Xavier Naidoo",
         32,
         "Nicht von dieser Welt",
         1998
        ],
        [
         16,
         "Xavier Naidoo",
         33,
         "Telegramm für X",
         2005
        ],
        [
         17,
         "Fettes Brot",
         34,
         "Auf enem Auge blod",
         2001
        ],
        [
         17,
         "Fettes Brot",
         35,
         "3 its ne Party",
         1963
        ],
        [
         18,
         "Seeed",
         36,
         "Next!",
         2005
        ],
        [
         18,
         "Seeed",
         37,
         "BAM BAM",
         null
        ],
        [
         18,
         "Seeed",
         null,
         null,
         19
        ],
        [
         3,
         "Rammstein",
         4,
         "Sehnsucht",
         1997
        ],
        [
         3,
         "Rammstein",
         5,
         "Mutter",
         2001
        ],
        [
         4,
         "Scorpions",
         6,
         "Love at First Sting",
         1984
        ],
        [
         4,
         "Scorpions",
         79,
         "Crazy World",
         1990
        ],
        [
         5,
         "Kraftwork",
         8,
         "Autobahn",
         1974
        ],
        [
         5,
         "Kraftwork",
         12,
         "The Man-Machine",
         1978
        ],
        [
         6,
         "Nena",
         13,
         "99 Luftballons",
         1984
        ],
        [
         6,
         "Nena",
         14,
         "Nena",
         1983
        ],
        [
         22,
         "Sido",
         44,
         "Ich und meine Maske",
         2008
        ],
        [
         22,
         "Sido",
         45,
         "VI",
         null
        ],
        [
         1,
         "John Doe",
         1,
         "Album 1",
         2020
        ],
        [
         1,
         "John Doe",
         2,
         "Album 2",
         2021
        ],
        [
         2,
         "Jane Smith",
         3,
         "Album 3",
         2022
        ]
       ],
       "datasetInfos": [],
       "dbfsResultPath": null,
       "isJsonSchema": true,
       "metadata": {},
       "overflow": false,
       "plotOptions": {
        "customPlotOptions": {},
        "displayType": "table",
        "pivotAggregation": null,
        "pivotColumns": null,
        "xColumns": null,
        "yColumns": null
       },
       "removedWidgets": [],
       "schema": [
        {
         "metadata": "{}",
         "name": "artist_id",
         "type": "\"integer\""
        },
        {
         "metadata": "{}",
         "name": "name",
         "type": "\"string\""
        },
        {
         "metadata": "{}",
         "name": "album_id",
         "type": "\"integer\""
        },
        {
         "metadata": "{}",
         "name": "album_name",
         "type": "\"string\""
        },
        {
         "metadata": "{}",
         "name": "year_released",
         "type": "\"integer\""
        }
       ],
       "type": "table"
      }
     },
     "output_type": "display_data"
    }
   ],
   "source": [
    "flattened = parsed_df.select(col(\"parsed_json.artist_id\"), col(\"parsed_json.name\"), explode(col(\"parsed_json.albums\")))\n",
    "flattened_with_albums = flattened.select(col(\"artist_id\"), col(\"name\"), col(\"col.album_id\"), col(\"col.name\").alias(\"album_name\") , col(\"col.year_released\"))\n",
    "display(flattened_with_albums)"
   ]
  },
  {
   "cell_type": "code",
   "execution_count": null,
   "metadata": {
    "application/vnd.databricks.v1+cell": {
     "cellMetadata": {
      "byteLimit": 2048000,
      "rowLimit": 10000
     },
     "inputWidgets": {},
     "nuid": "71b51d49-5c52-4b3e-82b4-05d2cb61f37b",
     "showTitle": false,
     "title": ""
    }
   },
   "outputs": [
    {
     "name": "stdout",
     "output_type": "stream",
     "text": [
      "Out[69]: ['artist_id', 'name', 'album_id', 'album_name', 'year_released']"
     ]
    }
   ],
   "source": [
    "flattened_with_albums.columns"
   ]
  },
  {
   "cell_type": "code",
   "execution_count": null,
   "metadata": {
    "application/vnd.databricks.v1+cell": {
     "cellMetadata": {
      "byteLimit": 2048000,
      "rowLimit": 10000
     },
     "inputWidgets": {},
     "nuid": "a9d6ab71-405d-4f4e-af8b-e13a0d43a1f9",
     "showTitle": false,
     "title": ""
    }
   },
   "outputs": [
    {
     "name": "stdout",
     "output_type": "stream",
     "text": [
      "+---------+-------------------+--------+--------------------+-------------+\n",
      "|artist_id|               name|album_id|          album_name|year_released|\n",
      "+---------+-------------------+--------+--------------------+-------------+\n",
      "|       23|          Ram Unzer|      46|Gott ver die Freheit|         2002|\n",
      "|       23|          Ram Unzer|      47|         Sonne Tecno|         1994|\n",
      "|       24|Bill Kauler immuret|      48|Die neuenklanden ...|         1997|\n",
      "|       25|        Eric Burdon|      50|         Medmoradier|         1995|\n",
      "|       25|        Eric Burdon|      51|            Lethalba|         2002|\n",
      "|       26|       The Progress|      52|     Die Verwandlung|         1915|\n",
      "|       26|       The Progress|      53|         Der Prozess|         1925|\n",
      "|       15|     Udo Lindenberg|      30|      Stark wie zwei|         2008|\n",
      "|       15|     Udo Lindenberg|      31|MTV Unplugged: Li...|         1011|\n",
      "|       16|      Xavier Naidoo|      32|Nicht von dieser ...|         1998|\n",
      "+---------+-------------------+--------+--------------------+-------------+\n",
      "only showing top 10 rows\n",
      "\n"
     ]
    }
   ],
   "source": [
    "flattened_with_albums.dropna().show(10)"
   ]
  },
  {
   "cell_type": "code",
   "execution_count": null,
   "metadata": {
    "application/vnd.databricks.v1+cell": {
     "cellMetadata": {
      "byteLimit": 2048000,
      "rowLimit": 10000
     },
     "inputWidgets": {},
     "nuid": "ae1e415c-0d55-4a01-a42e-8df5f734a58a",
     "showTitle": false,
     "title": ""
    }
   },
   "outputs": [
    {
     "name": "stdout",
     "output_type": "stream",
     "text": [
      "Unexpected exception formatting exception. Falling back to standard exception\n"
     ]
    },
    {
     "name": "stderr",
     "output_type": "stream",
     "text": [
      "Traceback (most recent call last):\n",
      "  File \"/databricks/python/lib/python3.9/site-packages/IPython/core/interactiveshell.py\", line 3378, in run_code\n",
      "    exec(code_obj, self.user_global_ns, self.user_ns)\n",
      "  File \"<command-2760079726745020>\", line 10, in <module>\n",
      "    new_schema.display(5)\n",
      "AttributeError: 'StructType' object has no attribute 'display'\n",
      "\n",
      "During handling of the above exception, another exception occurred:\n",
      "\n",
      "Traceback (most recent call last):\n",
      "  File \"/databricks/python/lib/python3.9/site-packages/IPython/core/interactiveshell.py\", line 1997, in showtraceback\n",
      "    stb = self.InteractiveTB.structured_traceback(\n",
      "  File \"/databricks/python/lib/python3.9/site-packages/IPython/core/ultratb.py\", line 1112, in structured_traceback\n",
      "    return FormattedTB.structured_traceback(\n",
      "  File \"/databricks/python/lib/python3.9/site-packages/IPython/core/ultratb.py\", line 1006, in structured_traceback\n",
      "    return VerboseTB.structured_traceback(\n",
      "  File \"/databricks/python/lib/python3.9/site-packages/IPython/core/ultratb.py\", line 859, in structured_traceback\n",
      "    formatted_exception = self.format_exception_as_a_whole(etype, evalue, etb, number_of_lines_of_context,\n",
      "  File \"/databricks/python/lib/python3.9/site-packages/IPython/core/ultratb.py\", line 812, in format_exception_as_a_whole\n",
      "    frames.append(self.format_record(r))\n",
      "  File \"/databricks/python/lib/python3.9/site-packages/IPython/core/ultratb.py\", line 730, in format_record\n",
      "    result += ''.join(_format_traceback_lines(frame_info.lines, Colors, self.has_colors, lvals))\n",
      "  File \"/databricks/python/lib/python3.9/site-packages/stack_data/utils.py\", line 145, in cached_property_wrapper\n",
      "    value = obj.__dict__[self.func.__name__] = self.func(obj)\n",
      "  File \"/databricks/python/lib/python3.9/site-packages/stack_data/core.py\", line 698, in lines\n",
      "    pieces = self.included_pieces\n",
      "  File \"/databricks/python/lib/python3.9/site-packages/stack_data/utils.py\", line 145, in cached_property_wrapper\n",
      "    value = obj.__dict__[self.func.__name__] = self.func(obj)\n",
      "  File \"/databricks/python/lib/python3.9/site-packages/stack_data/core.py\", line 649, in included_pieces\n",
      "    pos = scope_pieces.index(self.executing_piece)\n",
      "  File \"/databricks/python/lib/python3.9/site-packages/stack_data/utils.py\", line 145, in cached_property_wrapper\n",
      "    value = obj.__dict__[self.func.__name__] = self.func(obj)\n",
      "  File \"/databricks/python/lib/python3.9/site-packages/stack_data/core.py\", line 628, in executing_piece\n",
      "    return only(\n",
      "  File \"/databricks/python/lib/python3.9/site-packages/executing/executing.py\", line 164, in only\n",
      "    raise NotOneValueFound('Expected one value, found 0')\n",
      "executing.executing.NotOneValueFound: Expected one value, found 0\n"
     ]
    },
    {
     "data": {
      "text/plain": []
     },
     "metadata": {
      "application/vnd.databricks.v1+output": {
       "arguments": {},
       "data": "",
       "errorSummary": "<span class='ansi-red-fg'>AttributeError</span>: 'StructType' object has no attribute 'display'",
       "errorTraceType": "ansi",
       "metadata": {},
       "type": "ipynbError"
      }
     },
     "output_type": "display_data"
    }
   ],
   "source": [
    "from pyspark.sql.types import StructType\n",
    "\n",
    "# Save schema from the original DataFrame into json:\n",
    "schema_json = df2.schema.json()\n",
    "\n",
    "# Restore schema from json:\n",
    "import json\n",
    "new_schema = StructType.fromJson(json.loads(schema_json))\n",
    "\n",
    "spart.Danew_schema"
   ]
  },
  {
   "cell_type": "code",
   "execution_count": null,
   "metadata": {
    "application/vnd.databricks.v1+cell": {
     "cellMetadata": {
      "byteLimit": 2048000,
      "rowLimit": 10000
     },
     "inputWidgets": {},
     "nuid": "b1832d71-a0d1-4139-9efa-f2ba9c05b828",
     "showTitle": false,
     "title": ""
    }
   },
   "outputs": [
    {
     "data": {
      "text/html": [
       "<style scoped>\n",
       "  .table-result-container {\n",
       "    max-height: 300px;\n",
       "    overflow: auto;\n",
       "  }\n",
       "  table, th, td {\n",
       "    border: 1px solid black;\n",
       "    border-collapse: collapse;\n",
       "  }\n",
       "  th, td {\n",
       "    padding: 5px;\n",
       "  }\n",
       "  th {\n",
       "    text-align: left;\n",
       "  }\n",
       "</style><div class='table-result-container'><table class='table-result'><thead style='background-color: white'><tr><th>album_id</th><th>royalties</th><th>date</th></tr></thead><tbody><tr><td>13</td><td>4100</td><td>2023-05-15</td></tr><tr><td>14</td><td>4300</td><td>2023-06-01</td></tr><tr><td>30</td><td>2900</td><td>2023-06-15</td></tr><tr><td>31</td><td>3100</td><td>2023-07-01</td></tr><tr><td>32</td><td>2600</td><td>2023-07-15</td></tr><tr><td>33</td><td>3400</td><td>2023-08-01</td></tr><tr><td>49</td><td>3900</td><td>2024-01-01</td></tr><tr><td>50</td><td>4100</td><td>2024-01-15</td></tr><tr><td>51</td><td>4300</td><td>2024-02-01</td></tr><tr><td>52</td><td>4400</td><td>2024-02-15</td></tr><tr><td>53</td><td>4500</td><td>2024-03-01</td></tr><tr><td>34</td><td>3300</td><td>2023-08-15</td></tr><tr><td>35</td><td>3000</td><td>2023-09-01</td></tr><tr><td>36</td><td>3100</td><td>2023-09-15</td></tr><tr><td>37</td><td>2900</td><td>2023-10-01</td></tr><tr><td>44</td><td>3200</td><td>2023-10-15</td></tr><tr><td>45</td><td>3500</td><td>2023-11-01</td></tr><tr><td>46</td><td>3800</td><td>2023-11-15</td></tr><tr><td>47</td><td>3700</td><td>2023-12-01</td></tr><tr><td>48</td><td>3600</td><td>2023-12-15</td></tr><tr><td>79</td><td>3500</td><td>2023-04-01</td></tr><tr><td>8</td><td>2700</td><td>2023-04-15</td></tr><tr><td>12</td><td>4000</td><td>2023-05-01</td></tr><tr><td>1</td><td>5000</td><td>2023-01-01</td></tr><tr><td>2</td><td>4500</td><td>2023-01-15</td></tr><tr><td>3</td><td>3200</td><td>2023-02-01</td></tr><tr><td>4</td><td>2800</td><td>2023-02-15</td></tr><tr><td>5</td><td>3000</td><td>2023-03-01</td></tr><tr><td>6</td><td>2200</td><td>2023-03-15</td></tr></tbody></table></div>"
      ]
     },
     "metadata": {
      "application/vnd.databricks.v1+output": {
       "addedWidgets": {},
       "aggData": [],
       "aggError": "",
       "aggOverflow": false,
       "aggSchema": [],
       "aggSeriesLimitReached": false,
       "aggType": "",
       "arguments": {},
       "columnCustomDisplayInfos": {},
       "data": [
        [
         "13",
         "4100",
         "2023-05-15"
        ],
        [
         "14",
         "4300",
         "2023-06-01"
        ],
        [
         "30",
         "2900",
         "2023-06-15"
        ],
        [
         "31",
         "3100",
         "2023-07-01"
        ],
        [
         "32",
         "2600",
         "2023-07-15"
        ],
        [
         "33",
         "3400",
         "2023-08-01"
        ],
        [
         "49",
         "3900",
         "2024-01-01"
        ],
        [
         "50",
         "4100",
         "2024-01-15"
        ],
        [
         "51",
         "4300",
         "2024-02-01"
        ],
        [
         "52",
         "4400",
         "2024-02-15"
        ],
        [
         "53",
         "4500",
         "2024-03-01"
        ],
        [
         "34",
         "3300",
         "2023-08-15"
        ],
        [
         "35",
         "3000",
         "2023-09-01"
        ],
        [
         "36",
         "3100",
         "2023-09-15"
        ],
        [
         "37",
         "2900",
         "2023-10-01"
        ],
        [
         "44",
         "3200",
         "2023-10-15"
        ],
        [
         "45",
         "3500",
         "2023-11-01"
        ],
        [
         "46",
         "3800",
         "2023-11-15"
        ],
        [
         "47",
         "3700",
         "2023-12-01"
        ],
        [
         "48",
         "3600",
         "2023-12-15"
        ],
        [
         "79",
         "3500",
         "2023-04-01"
        ],
        [
         "8",
         "2700",
         "2023-04-15"
        ],
        [
         "12",
         "4000",
         "2023-05-01"
        ],
        [
         "1",
         "5000",
         "2023-01-01"
        ],
        [
         "2",
         "4500",
         "2023-01-15"
        ],
        [
         "3",
         "3200",
         "2023-02-01"
        ],
        [
         "4",
         "2800",
         "2023-02-15"
        ],
        [
         "5",
         "3000",
         "2023-03-01"
        ],
        [
         "6",
         "2200",
         "2023-03-15"
        ]
       ],
       "datasetInfos": [],
       "dbfsResultPath": null,
       "isJsonSchema": true,
       "metadata": {},
       "overflow": false,
       "plotOptions": {
        "customPlotOptions": {},
        "displayType": "table",
        "pivotAggregation": null,
        "pivotColumns": null,
        "xColumns": null,
        "yColumns": null
       },
       "removedWidgets": [],
       "schema": [
        {
         "metadata": "{}",
         "name": "album_id",
         "type": "\"string\""
        },
        {
         "metadata": "{}",
         "name": "royalties",
         "type": "\"string\""
        },
        {
         "metadata": "{}",
         "name": "date",
         "type": "\"string\""
        }
       ],
       "type": "table"
      }
     },
     "output_type": "display_data"
    }
   ],
   "source": [
    "## Wir stellen dir eine weitere Datei zur Verfügung, die aus einem anderen System kommt. Diese beinhaltet die Tantiemen für die Alben. Aggregiere bitte diese Daten. Mich würde interessieren, wie du sie verknüpfst. Die Datei ist hier zu finden (\"/Workspace/royalty-product-silver/latest.csv\")\n",
    "dfCSV= spark.read.format(\"csv\").option(\"header\", \"true\").load(\"/Workspace/royalty-product-silver/latest.csv\")\n",
    "dfCSV.display(5)"
   ]
  },
  {
   "cell_type": "code",
   "execution_count": null,
   "metadata": {
    "application/vnd.databricks.v1+cell": {
     "cellMetadata": {},
     "inputWidgets": {},
     "nuid": "8257b9e5-4068-4e3a-963f-097920bb48db",
     "showTitle": false,
     "title": ""
    }
   },
   "outputs": [],
   "source": []
  },
  {
   "cell_type": "code",
   "execution_count": null,
   "metadata": {
    "application/vnd.databricks.v1+cell": {
     "cellMetadata": {
      "byteLimit": 2048000,
      "rowLimit": 10000
     },
     "inputWidgets": {},
     "nuid": "ba8527a4-5803-4afd-91ef-acb246045629",
     "showTitle": false,
     "title": ""
    }
   },
   "outputs": [
    {
     "data": {
      "text/html": [
       "<style scoped>\n",
       "  .table-result-container {\n",
       "    max-height: 300px;\n",
       "    overflow: auto;\n",
       "  }\n",
       "  table, th, td {\n",
       "    border: 1px solid black;\n",
       "    border-collapse: collapse;\n",
       "  }\n",
       "  th, td {\n",
       "    padding: 5px;\n",
       "  }\n",
       "  th {\n",
       "    text-align: left;\n",
       "  }\n",
       "</style><div class='table-result-container'><table class='table-result'><thead style='background-color: white'><tr><th>album_id</th><th>artist_id</th><th>name</th><th>album_name</th><th>year_released</th><th>royalties</th><th>date</th></tr></thead><tbody><tr><td>46</td><td>23</td><td>Ram Unzer</td><td>Gott ver die Freheit</td><td>2002</td><td>3800</td><td>2023-11-15</td></tr><tr><td>47</td><td>23</td><td>Ram Unzer</td><td>Sonne Tecno</td><td>1994</td><td>3700</td><td>2023-12-01</td></tr><tr><td>48</td><td>24</td><td>Bill Kauler immuret</td><td>Die neuenklanden greif,</td><td>1997</td><td>3600</td><td>2023-12-15</td></tr><tr><td>49</td><td>24</td><td>Bill Kauler immuret</td><td>Leben wie Cartag Valley</td><td>null</td><td>3900</td><td>2024-01-01</td></tr><tr><td>50</td><td>25</td><td>Eric Burdon</td><td>Medmoradier</td><td>1995</td><td>4100</td><td>2024-01-15</td></tr><tr><td>51</td><td>25</td><td>Eric Burdon</td><td>Lethalba</td><td>2002</td><td>4300</td><td>2024-02-01</td></tr><tr><td>52</td><td>26</td><td>The Progress</td><td>Die Verwandlung</td><td>1915</td><td>4400</td><td>2024-02-15</td></tr><tr><td>53</td><td>26</td><td>The Progress</td><td>Der Prozess</td><td>1925</td><td>4500</td><td>2024-03-01</td></tr><tr><td>30</td><td>15</td><td>Udo Lindenberg</td><td>Stark wie zwei</td><td>2008</td><td>2900</td><td>2023-06-15</td></tr><tr><td>31</td><td>15</td><td>Udo Lindenberg</td><td>MTV Unplugged: Live aus dem Hotel Atlantic</td><td>1011</td><td>3100</td><td>2023-07-01</td></tr><tr><td>32</td><td>16</td><td>Xavier Naidoo</td><td>Nicht von dieser Welt</td><td>1998</td><td>2600</td><td>2023-07-15</td></tr><tr><td>33</td><td>16</td><td>Xavier Naidoo</td><td>Telegramm für X</td><td>2005</td><td>3400</td><td>2023-08-01</td></tr><tr><td>34</td><td>17</td><td>Fettes Brot</td><td>Auf enem Auge blod</td><td>2001</td><td>3300</td><td>2023-08-15</td></tr><tr><td>35</td><td>17</td><td>Fettes Brot</td><td>3 its ne Party</td><td>1963</td><td>3000</td><td>2023-09-01</td></tr><tr><td>36</td><td>18</td><td>Seeed</td><td>Next!</td><td>2005</td><td>3100</td><td>2023-09-15</td></tr><tr><td>37</td><td>18</td><td>Seeed</td><td>BAM BAM</td><td>null</td><td>2900</td><td>2023-10-01</td></tr><tr><td>4</td><td>3</td><td>Rammstein</td><td>Sehnsucht</td><td>1997</td><td>2800</td><td>2023-02-15</td></tr><tr><td>5</td><td>3</td><td>Rammstein</td><td>Mutter</td><td>2001</td><td>3000</td><td>2023-03-01</td></tr><tr><td>6</td><td>4</td><td>Scorpions</td><td>Love at First Sting</td><td>1984</td><td>2200</td><td>2023-03-15</td></tr><tr><td>79</td><td>4</td><td>Scorpions</td><td>Crazy World</td><td>1990</td><td>3500</td><td>2023-04-01</td></tr><tr><td>8</td><td>5</td><td>Kraftwork</td><td>Autobahn</td><td>1974</td><td>2700</td><td>2023-04-15</td></tr><tr><td>12</td><td>5</td><td>Kraftwork</td><td>The Man-Machine</td><td>1978</td><td>4000</td><td>2023-05-01</td></tr><tr><td>13</td><td>6</td><td>Nena</td><td>99 Luftballons</td><td>1984</td><td>4100</td><td>2023-05-15</td></tr><tr><td>14</td><td>6</td><td>Nena</td><td>Nena</td><td>1983</td><td>4300</td><td>2023-06-01</td></tr><tr><td>44</td><td>22</td><td>Sido</td><td>Ich und meine Maske</td><td>2008</td><td>3200</td><td>2023-10-15</td></tr><tr><td>45</td><td>22</td><td>Sido</td><td>VI</td><td>null</td><td>3500</td><td>2023-11-01</td></tr><tr><td>1</td><td>1</td><td>John Doe</td><td>Album 1</td><td>2020</td><td>5000</td><td>2023-01-01</td></tr><tr><td>2</td><td>1</td><td>John Doe</td><td>Album 2</td><td>2021</td><td>4500</td><td>2023-01-15</td></tr><tr><td>3</td><td>2</td><td>Jane Smith</td><td>Album 3</td><td>2022</td><td>3200</td><td>2023-02-01</td></tr></tbody></table></div>"
      ]
     },
     "metadata": {
      "application/vnd.databricks.v1+output": {
       "addedWidgets": {},
       "aggData": [],
       "aggError": "",
       "aggOverflow": false,
       "aggSchema": [],
       "aggSeriesLimitReached": false,
       "aggType": "",
       "arguments": {},
       "columnCustomDisplayInfos": {},
       "data": [
        [
         46,
         23,
         "Ram Unzer",
         "Gott ver die Freheit",
         2002,
         "3800",
         "2023-11-15"
        ],
        [
         47,
         23,
         "Ram Unzer",
         "Sonne Tecno",
         1994,
         "3700",
         "2023-12-01"
        ],
        [
         48,
         24,
         "Bill Kauler immuret",
         "Die neuenklanden greif,",
         1997,
         "3600",
         "2023-12-15"
        ],
        [
         49,
         24,
         "Bill Kauler immuret",
         "Leben wie Cartag Valley",
         null,
         "3900",
         "2024-01-01"
        ],
        [
         50,
         25,
         "Eric Burdon",
         "Medmoradier",
         1995,
         "4100",
         "2024-01-15"
        ],
        [
         51,
         25,
         "Eric Burdon",
         "Lethalba",
         2002,
         "4300",
         "2024-02-01"
        ],
        [
         52,
         26,
         "The Progress",
         "Die Verwandlung",
         1915,
         "4400",
         "2024-02-15"
        ],
        [
         53,
         26,
         "The Progress",
         "Der Prozess",
         1925,
         "4500",
         "2024-03-01"
        ],
        [
         30,
         15,
         "Udo Lindenberg",
         "Stark wie zwei",
         2008,
         "2900",
         "2023-06-15"
        ],
        [
         31,
         15,
         "Udo Lindenberg",
         "MTV Unplugged: Live aus dem Hotel Atlantic",
         1011,
         "3100",
         "2023-07-01"
        ],
        [
         32,
         16,
         "Xavier Naidoo",
         "Nicht von dieser Welt",
         1998,
         "2600",
         "2023-07-15"
        ],
        [
         33,
         16,
         "Xavier Naidoo",
         "Telegramm für X",
         2005,
         "3400",
         "2023-08-01"
        ],
        [
         34,
         17,
         "Fettes Brot",
         "Auf enem Auge blod",
         2001,
         "3300",
         "2023-08-15"
        ],
        [
         35,
         17,
         "Fettes Brot",
         "3 its ne Party",
         1963,
         "3000",
         "2023-09-01"
        ],
        [
         36,
         18,
         "Seeed",
         "Next!",
         2005,
         "3100",
         "2023-09-15"
        ],
        [
         37,
         18,
         "Seeed",
         "BAM BAM",
         null,
         "2900",
         "2023-10-01"
        ],
        [
         4,
         3,
         "Rammstein",
         "Sehnsucht",
         1997,
         "2800",
         "2023-02-15"
        ],
        [
         5,
         3,
         "Rammstein",
         "Mutter",
         2001,
         "3000",
         "2023-03-01"
        ],
        [
         6,
         4,
         "Scorpions",
         "Love at First Sting",
         1984,
         "2200",
         "2023-03-15"
        ],
        [
         79,
         4,
         "Scorpions",
         "Crazy World",
         1990,
         "3500",
         "2023-04-01"
        ],
        [
         8,
         5,
         "Kraftwork",
         "Autobahn",
         1974,
         "2700",
         "2023-04-15"
        ],
        [
         12,
         5,
         "Kraftwork",
         "The Man-Machine",
         1978,
         "4000",
         "2023-05-01"
        ],
        [
         13,
         6,
         "Nena",
         "99 Luftballons",
         1984,
         "4100",
         "2023-05-15"
        ],
        [
         14,
         6,
         "Nena",
         "Nena",
         1983,
         "4300",
         "2023-06-01"
        ],
        [
         44,
         22,
         "Sido",
         "Ich und meine Maske",
         2008,
         "3200",
         "2023-10-15"
        ],
        [
         45,
         22,
         "Sido",
         "VI",
         null,
         "3500",
         "2023-11-01"
        ],
        [
         1,
         1,
         "John Doe",
         "Album 1",
         2020,
         "5000",
         "2023-01-01"
        ],
        [
         2,
         1,
         "John Doe",
         "Album 2",
         2021,
         "4500",
         "2023-01-15"
        ],
        [
         3,
         2,
         "Jane Smith",
         "Album 3",
         2022,
         "3200",
         "2023-02-01"
        ]
       ],
       "datasetInfos": [],
       "dbfsResultPath": null,
       "isJsonSchema": true,
       "metadata": {},
       "overflow": false,
       "plotOptions": {
        "customPlotOptions": {},
        "displayType": "table",
        "pivotAggregation": null,
        "pivotColumns": null,
        "xColumns": null,
        "yColumns": null
       },
       "removedWidgets": [],
       "schema": [
        {
         "metadata": "{}",
         "name": "album_id",
         "type": "\"integer\""
        },
        {
         "metadata": "{}",
         "name": "artist_id",
         "type": "\"integer\""
        },
        {
         "metadata": "{}",
         "name": "name",
         "type": "\"string\""
        },
        {
         "metadata": "{}",
         "name": "album_name",
         "type": "\"string\""
        },
        {
         "metadata": "{}",
         "name": "year_released",
         "type": "\"integer\""
        },
        {
         "metadata": "{}",
         "name": "royalties",
         "type": "\"string\""
        },
        {
         "metadata": "{}",
         "name": "date",
         "type": "\"string\""
        }
       ],
       "type": "table"
      }
     },
     "output_type": "display_data"
    }
   ],
   "source": [
    "dfJoin = flattened_with_albums.join(dfCSV, on=\"album_id\", how=\"inner\")\n",
    "dfJoin.display(5)"
   ]
  },
  {
   "cell_type": "code",
   "execution_count": null,
   "metadata": {
    "application/vnd.databricks.v1+cell": {
     "cellMetadata": {
      "byteLimit": 2048000,
      "rowLimit": 10000
     },
     "inputWidgets": {},
     "nuid": "b43d5f10-d428-4ffd-a224-21e1966216d1",
     "showTitle": false,
     "title": ""
    }
   },
   "outputs": [],
   "source": [
    "## Wenn du soweit bist, lege die Tabelle in einem dir bekannten Format ab. Speichere sie unter \"/Workspace/royalty-product-gold\" ab."
   ]
  },
  {
   "cell_type": "code",
   "execution_count": null,
   "metadata": {
    "application/vnd.databricks.v1+cell": {
     "cellMetadata": {
      "byteLimit": 2048000,
      "rowLimit": 10000
     },
     "inputWidgets": {},
     "nuid": "a574863f-ab91-41a2-b0f5-67270dbc1e6b",
     "showTitle": false,
     "title": ""
    }
   },
   "outputs": [],
   "source": [
    "dfJoin.write.parquet(\"/Workspace/royalty-product-gold\")"
   ]
  }
 ],
 "metadata": {
  "application/vnd.databricks.v1+notebook": {
   "dashboards": [],
   "environmentMetadata": null,
   "language": "python",
   "notebookMetadata": {
    "pythonIndentUnit": 4
   },
   "notebookName": "royalties-product-gold",
   "widgets": {}
  },
  "kernelspec": {
   "display_name": "Python 3 (ipykernel)",
   "language": "python",
   "name": "python3"
  },
  "language_info": {
   "codemirror_mode": {
    "name": "ipython",
    "version": 3
   },
   "file_extension": ".py",
   "mimetype": "text/x-python",
   "name": "python",
   "nbconvert_exporter": "python",
   "pygments_lexer": "ipython3",
   "version": "3.11.7"
  }
 },
 "nbformat": 4,
 "nbformat_minor": 4
}
